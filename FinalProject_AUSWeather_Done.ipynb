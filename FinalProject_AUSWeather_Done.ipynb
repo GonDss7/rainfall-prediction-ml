{
  "cells": [
    {
      "cell_type": "markdown",
      "metadata": {
        "id": "67ea87d3-b365-4f7c-873e-5e61ab00b3d3"
      },
      "source": [
        "<p style=\"text-align:center\">\n",
        "    <a href=\"https://skills.network/?utm_medium=Exinfluencer&utm_source=Exinfluencer&utm_content=000026UJ&utm_term=10006555&utm_id=NA-SkillsNetwork-Channel-SkillsNetworkCoursesIBMDeveloperSkillsNetworkML0101ENSkillsNetwork20718538-2022-01-01\" target=\"_blank\">\n",
        "    <img src=\"https://cf-courses-data.s3.us.cloud-object-storage.appdomain.cloud/assets/logos/SN_web_lightmode.png\" width=\"300\" alt=\"Skills Network Logo\">\n",
        "    </a>\n",
        "</p>\n",
        "\n",
        "\n",
        "# Final Project: Building a Rainfall Prediction Classifier\n",
        "Estimated time needed: **60** minutes\n",
        "    \n",
        "\n",
        "## Objectives\n",
        "\n",
        "After completing this lab you will be able to:\n",
        "\n",
        "* Explore and perform feature engineering on a real-world data set\n",
        "* Build a classifier pipeline and optimize it using grid search cross validation\n",
        "* Evaluate your model by interpreting various performance metrics and visualizations\n",
        "* Implement a different classifier by updating your pipeline\n",
        "* Use an appropriate set of parameters to search over in each case\n",
        "\n",
        "## Instruction(s)\n",
        "\n",
        "After completing the Notebook:\n",
        "\n",
        "* Download the notebook using **File** > **Download**.\n",
        "* This notebook will be then graded using **AI grader** in the subsequent section.\n",
        "* Copy/Paste your markdown responses in the subsequent **AI Mark assignment**.\n",
        "\n",
        "\n"
      ]
    },
    {
      "cell_type": "markdown",
      "metadata": {
        "id": "86880493-ab04-438a-a98c-37aa6b5e7b01"
      },
      "source": [
        "# About The Dataset\n",
        "The original source of the data is Australian Government's Bureau of Meteorology and the latest data can be gathered from [http://www.bom.gov.au/climate/dwo/](http://www.bom.gov.au/climate/dwo/?utm_medium=Exinfluencer&utm_source=Exinfluencer&utm_content=000026UJ&utm_term=10006555&utm_id=NA-SkillsNetwork-Channel-SkillsNetworkCoursesIBMDeveloperSkillsNetworkML0101ENSkillsNetwork20718538-2022-01-01).\n",
        "\n",
        "The dataset you'll use in this project was downloaded from Kaggle at [https://www.kaggle.com/datasets/jsphyg/weather-dataset-rattle-package/](https://www.kaggle.com/datasets/jsphyg/weather-dataset-rattle-package?resource=download&select=weatherAUS.csv)  \n",
        "Column definitions were gathered from [http://www.bom.gov.au/climate/dwo/IDCJDW0000.shtml](http://www.bom.gov.au/climate/dwo/IDCJDW0000.shtml?utm_medium=Exinfluencer&utm_source=Exinfluencer&utm_content=000026UJ&utm_term=10006555&utm_id=NA-SkillsNetwork-Channel-SkillsNetworkCoursesIBMDeveloperSkillsNetworkML0101ENSkillsNetwork20718538-2022-01-01)  \n",
        "\n",
        "The dataset contains observations of weather metrics for each day from 2008 to 2017, and includes the following fields:\n",
        "\n",
        "| Field         | Description                                           | Unit            | Type   |\n",
        "| :------------ | :---------------------------------------------------- | :-------------- | :----- |\n",
        "| Date          | Date of the Observation in YYYY-MM-DD                 | Date            | object |\n",
        "| Location      | Location of the Observation                           | Location        | object |\n",
        "| MinTemp       | Minimum temperature                                   | Celsius         | float  |\n",
        "| MaxTemp       | Maximum temperature                                   | Celsius         | float  |\n",
        "| Rainfall      | Amount of rainfall                                    | Millimeters     | float  |\n",
        "| Evaporation   | Amount of evaporation                                 | Millimeters     | float  |\n",
        "| Sunshine      | Amount of bright sunshine                             | hours           | float  |\n",
        "| WindGustDir   | Direction of the strongest gust                       | Compass Points  | object |\n",
        "| WindGustSpeed | Speed of the strongest gust                           | Kilometers/Hour | object |\n",
        "| WindDir9am    | Wind direction averaged over 10 minutes prior to 9am  | Compass Points  | object |\n",
        "| WindDir3pm    | Wind direction averaged over 10 minutes prior to 3pm  | Compass Points  | object |\n",
        "| WindSpeed9am  | Wind speed averaged over 10 minutes prior to 9am      | Kilometers/Hour | float  |\n",
        "| WindSpeed3pm  | Wind speed averaged over 10 minutes prior to 3pm      | Kilometers/Hour | float  |\n",
        "| Humidity9am   | Humidity at 9am                                       | Percent         | float  |\n",
        "| Humidity3pm   | Humidity at 3pm                                       | Percent         | float  |\n",
        "| Pressure9am   | Atmospheric pressure reduced to mean sea level at 9am | Hectopascal     | float  |\n",
        "| Pressure3pm   | Atmospheric pressure reduced to mean sea level at 3pm | Hectopascal     | float  |\n",
        "| Cloud9am      | Fraction of the sky obscured by cloud at 9am          | Eights          | float  |\n",
        "| Cloud3pm      | Fraction of the sky obscured by cloud at 3pm          | Eights          | float  |\n",
        "| Temp9am       | Temperature at 9am                                    | Celsius         | float  |\n",
        "| Temp3pm       | Temperature at 3pm                                    | Celsius         | float  |\n",
        "| RainToday     | If there was at least 1mm of rain today               | Yes/No          | object |\n",
        "| RainTomorrow  | If there is at least 1mm of rain tomorrow             | Yes/No          | object |\n",
        "\n"
      ]
    },
    {
      "cell_type": "markdown",
      "metadata": {
        "id": "fb6f8e06-b478-4df2-bea5-5b8a90a8b446"
      },
      "source": [
        "## Install and import the required libraries\n"
      ]
    },
    {
      "cell_type": "markdown",
      "metadata": {
        "id": "0b7bbdaa-3670-4ded-b313-e133c12a2be0"
      },
      "source": [
        "Exectue the following cells to install and import the necessary libraries.\n"
      ]
    },
    {
      "cell_type": "code",
      "metadata": {
        "id": "8732685f-3988-4812-a96e-ca3b017da704"
      },
      "outputs": [],
      "source": [
        "!pip install numpy\n",
        "!pip install pandas\n",
        "!pip install matplotlib\n",
        "!pip install scikit-learn\n",
        "!pip install seaborn"
      ],
      "execution_count": null
    },
    {
      "cell_type": "code",
      "metadata": {
        "id": "e6930fe3-271e-46da-9c6d-d33b3a20478a"
      },
      "outputs": [],
      "source": [
        "import pandas as pd\n",
        "import matplotlib.pyplot as plt\n",
        "from sklearn.compose import ColumnTransformer\n",
        "from sklearn.pipeline import Pipeline\n",
        "from sklearn.preprocessing import StandardScaler, OneHotEncoder\n",
        "from sklearn.model_selection import train_test_split, GridSearchCV, StratifiedKFold\n",
        "from sklearn.ensemble import RandomForestClassifier\n",
        "from sklearn.linear_model import LogisticRegression\n",
        "from sklearn.metrics import classification_report, confusion_matrix, ConfusionMatrixDisplay\n",
        "import seaborn as sns"
      ],
      "execution_count": 1
    },
    {
      "cell_type": "markdown",
      "metadata": {
        "id": "0d5c9f2e-d00e-49c0-979d-a2462e436dc4"
      },
      "source": [
        "## Load the data\n"
      ]
    },
    {
      "cell_type": "markdown",
      "metadata": {
        "id": "cae1df2f-2da3-4ebb-9c55-48f070d77040"
      },
      "source": [
        "Execute the following cells to load the dataset as a pandas dataframe.\n"
      ]
    },
    {
      "cell_type": "code",
      "metadata": {
        "colab": {
          "base_uri": "https://localhost:8080/",
          "height": 235
        },
        "id": "eeb7d1a9-b34f-4c29-ac10-2aea3cf7c9d6",
        "outputId": "7e248850-1a44-451d-bb3f-59124133113f"
      },
      "outputs": [
        {
          "output_type": "execute_result",
          "data": {
            "text/plain": [
              "         Date Location  MinTemp  MaxTemp  Rainfall  Evaporation  Sunshine  \\\n",
              "0  2008-12-01   Albury     13.4     22.9       0.6          NaN       NaN   \n",
              "1  2008-12-02   Albury      7.4     25.1       0.0          NaN       NaN   \n",
              "2  2008-12-03   Albury     12.9     25.7       0.0          NaN       NaN   \n",
              "3  2008-12-04   Albury      9.2     28.0       0.0          NaN       NaN   \n",
              "4  2008-12-05   Albury     17.5     32.3       1.0          NaN       NaN   \n",
              "\n",
              "  WindGustDir  WindGustSpeed WindDir9am  ... Humidity9am  Humidity3pm  \\\n",
              "0           W           44.0          W  ...        71.0         22.0   \n",
              "1         WNW           44.0        NNW  ...        44.0         25.0   \n",
              "2         WSW           46.0          W  ...        38.0         30.0   \n",
              "3          NE           24.0         SE  ...        45.0         16.0   \n",
              "4           W           41.0        ENE  ...        82.0         33.0   \n",
              "\n",
              "   Pressure9am  Pressure3pm  Cloud9am  Cloud3pm  Temp9am  Temp3pm  RainToday  \\\n",
              "0       1007.7       1007.1       8.0       NaN     16.9     21.8         No   \n",
              "1       1010.6       1007.8       NaN       NaN     17.2     24.3         No   \n",
              "2       1007.6       1008.7       NaN       2.0     21.0     23.2         No   \n",
              "3       1017.6       1012.8       NaN       NaN     18.1     26.5         No   \n",
              "4       1010.8       1006.0       7.0       8.0     17.8     29.7         No   \n",
              "\n",
              "   RainTomorrow  \n",
              "0            No  \n",
              "1            No  \n",
              "2            No  \n",
              "3            No  \n",
              "4            No  \n",
              "\n",
              "[5 rows x 23 columns]"
            ],
            "text/html": [
              "\n",
              "  <div id=\"df-916e6b39-50b9-474c-aa50-44c4c15dd9cb\" class=\"colab-df-container\">\n",
              "    <div>\n",
              "<style scoped>\n",
              "    .dataframe tbody tr th:only-of-type {\n",
              "        vertical-align: middle;\n",
              "    }\n",
              "\n",
              "    .dataframe tbody tr th {\n",
              "        vertical-align: top;\n",
              "    }\n",
              "\n",
              "    .dataframe thead th {\n",
              "        text-align: right;\n",
              "    }\n",
              "</style>\n",
              "<table border=\"1\" class=\"dataframe\">\n",
              "  <thead>\n",
              "    <tr style=\"text-align: right;\">\n",
              "      <th></th>\n",
              "      <th>Date</th>\n",
              "      <th>Location</th>\n",
              "      <th>MinTemp</th>\n",
              "      <th>MaxTemp</th>\n",
              "      <th>Rainfall</th>\n",
              "      <th>Evaporation</th>\n",
              "      <th>Sunshine</th>\n",
              "      <th>WindGustDir</th>\n",
              "      <th>WindGustSpeed</th>\n",
              "      <th>WindDir9am</th>\n",
              "      <th>...</th>\n",
              "      <th>Humidity9am</th>\n",
              "      <th>Humidity3pm</th>\n",
              "      <th>Pressure9am</th>\n",
              "      <th>Pressure3pm</th>\n",
              "      <th>Cloud9am</th>\n",
              "      <th>Cloud3pm</th>\n",
              "      <th>Temp9am</th>\n",
              "      <th>Temp3pm</th>\n",
              "      <th>RainToday</th>\n",
              "      <th>RainTomorrow</th>\n",
              "    </tr>\n",
              "  </thead>\n",
              "  <tbody>\n",
              "    <tr>\n",
              "      <th>0</th>\n",
              "      <td>2008-12-01</td>\n",
              "      <td>Albury</td>\n",
              "      <td>13.4</td>\n",
              "      <td>22.9</td>\n",
              "      <td>0.6</td>\n",
              "      <td>NaN</td>\n",
              "      <td>NaN</td>\n",
              "      <td>W</td>\n",
              "      <td>44.0</td>\n",
              "      <td>W</td>\n",
              "      <td>...</td>\n",
              "      <td>71.0</td>\n",
              "      <td>22.0</td>\n",
              "      <td>1007.7</td>\n",
              "      <td>1007.1</td>\n",
              "      <td>8.0</td>\n",
              "      <td>NaN</td>\n",
              "      <td>16.9</td>\n",
              "      <td>21.8</td>\n",
              "      <td>No</td>\n",
              "      <td>No</td>\n",
              "    </tr>\n",
              "    <tr>\n",
              "      <th>1</th>\n",
              "      <td>2008-12-02</td>\n",
              "      <td>Albury</td>\n",
              "      <td>7.4</td>\n",
              "      <td>25.1</td>\n",
              "      <td>0.0</td>\n",
              "      <td>NaN</td>\n",
              "      <td>NaN</td>\n",
              "      <td>WNW</td>\n",
              "      <td>44.0</td>\n",
              "      <td>NNW</td>\n",
              "      <td>...</td>\n",
              "      <td>44.0</td>\n",
              "      <td>25.0</td>\n",
              "      <td>1010.6</td>\n",
              "      <td>1007.8</td>\n",
              "      <td>NaN</td>\n",
              "      <td>NaN</td>\n",
              "      <td>17.2</td>\n",
              "      <td>24.3</td>\n",
              "      <td>No</td>\n",
              "      <td>No</td>\n",
              "    </tr>\n",
              "    <tr>\n",
              "      <th>2</th>\n",
              "      <td>2008-12-03</td>\n",
              "      <td>Albury</td>\n",
              "      <td>12.9</td>\n",
              "      <td>25.7</td>\n",
              "      <td>0.0</td>\n",
              "      <td>NaN</td>\n",
              "      <td>NaN</td>\n",
              "      <td>WSW</td>\n",
              "      <td>46.0</td>\n",
              "      <td>W</td>\n",
              "      <td>...</td>\n",
              "      <td>38.0</td>\n",
              "      <td>30.0</td>\n",
              "      <td>1007.6</td>\n",
              "      <td>1008.7</td>\n",
              "      <td>NaN</td>\n",
              "      <td>2.0</td>\n",
              "      <td>21.0</td>\n",
              "      <td>23.2</td>\n",
              "      <td>No</td>\n",
              "      <td>No</td>\n",
              "    </tr>\n",
              "    <tr>\n",
              "      <th>3</th>\n",
              "      <td>2008-12-04</td>\n",
              "      <td>Albury</td>\n",
              "      <td>9.2</td>\n",
              "      <td>28.0</td>\n",
              "      <td>0.0</td>\n",
              "      <td>NaN</td>\n",
              "      <td>NaN</td>\n",
              "      <td>NE</td>\n",
              "      <td>24.0</td>\n",
              "      <td>SE</td>\n",
              "      <td>...</td>\n",
              "      <td>45.0</td>\n",
              "      <td>16.0</td>\n",
              "      <td>1017.6</td>\n",
              "      <td>1012.8</td>\n",
              "      <td>NaN</td>\n",
              "      <td>NaN</td>\n",
              "      <td>18.1</td>\n",
              "      <td>26.5</td>\n",
              "      <td>No</td>\n",
              "      <td>No</td>\n",
              "    </tr>\n",
              "    <tr>\n",
              "      <th>4</th>\n",
              "      <td>2008-12-05</td>\n",
              "      <td>Albury</td>\n",
              "      <td>17.5</td>\n",
              "      <td>32.3</td>\n",
              "      <td>1.0</td>\n",
              "      <td>NaN</td>\n",
              "      <td>NaN</td>\n",
              "      <td>W</td>\n",
              "      <td>41.0</td>\n",
              "      <td>ENE</td>\n",
              "      <td>...</td>\n",
              "      <td>82.0</td>\n",
              "      <td>33.0</td>\n",
              "      <td>1010.8</td>\n",
              "      <td>1006.0</td>\n",
              "      <td>7.0</td>\n",
              "      <td>8.0</td>\n",
              "      <td>17.8</td>\n",
              "      <td>29.7</td>\n",
              "      <td>No</td>\n",
              "      <td>No</td>\n",
              "    </tr>\n",
              "  </tbody>\n",
              "</table>\n",
              "<p>5 rows × 23 columns</p>\n",
              "</div>\n",
              "    <div class=\"colab-df-buttons\">\n",
              "\n",
              "  <div class=\"colab-df-container\">\n",
              "    <button class=\"colab-df-convert\" onclick=\"convertToInteractive('df-916e6b39-50b9-474c-aa50-44c4c15dd9cb')\"\n",
              "            title=\"Convert this dataframe to an interactive table.\"\n",
              "            style=\"display:none;\">\n",
              "\n",
              "  <svg xmlns=\"http://www.w3.org/2000/svg\" height=\"24px\" viewBox=\"0 -960 960 960\">\n",
              "    <path d=\"M120-120v-720h720v720H120Zm60-500h600v-160H180v160Zm220 220h160v-160H400v160Zm0 220h160v-160H400v160ZM180-400h160v-160H180v160Zm440 0h160v-160H620v160ZM180-180h160v-160H180v160Zm440 0h160v-160H620v160Z\"/>\n",
              "  </svg>\n",
              "    </button>\n",
              "\n",
              "  <style>\n",
              "    .colab-df-container {\n",
              "      display:flex;\n",
              "      gap: 12px;\n",
              "    }\n",
              "\n",
              "    .colab-df-convert {\n",
              "      background-color: #E8F0FE;\n",
              "      border: none;\n",
              "      border-radius: 50%;\n",
              "      cursor: pointer;\n",
              "      display: none;\n",
              "      fill: #1967D2;\n",
              "      height: 32px;\n",
              "      padding: 0 0 0 0;\n",
              "      width: 32px;\n",
              "    }\n",
              "\n",
              "    .colab-df-convert:hover {\n",
              "      background-color: #E2EBFA;\n",
              "      box-shadow: 0px 1px 2px rgba(60, 64, 67, 0.3), 0px 1px 3px 1px rgba(60, 64, 67, 0.15);\n",
              "      fill: #174EA6;\n",
              "    }\n",
              "\n",
              "    .colab-df-buttons div {\n",
              "      margin-bottom: 4px;\n",
              "    }\n",
              "\n",
              "    [theme=dark] .colab-df-convert {\n",
              "      background-color: #3B4455;\n",
              "      fill: #D2E3FC;\n",
              "    }\n",
              "\n",
              "    [theme=dark] .colab-df-convert:hover {\n",
              "      background-color: #434B5C;\n",
              "      box-shadow: 0px 1px 3px 1px rgba(0, 0, 0, 0.15);\n",
              "      filter: drop-shadow(0px 1px 2px rgba(0, 0, 0, 0.3));\n",
              "      fill: #FFFFFF;\n",
              "    }\n",
              "  </style>\n",
              "\n",
              "    <script>\n",
              "      const buttonEl =\n",
              "        document.querySelector('#df-916e6b39-50b9-474c-aa50-44c4c15dd9cb button.colab-df-convert');\n",
              "      buttonEl.style.display =\n",
              "        google.colab.kernel.accessAllowed ? 'block' : 'none';\n",
              "\n",
              "      async function convertToInteractive(key) {\n",
              "        const element = document.querySelector('#df-916e6b39-50b9-474c-aa50-44c4c15dd9cb');\n",
              "        const dataTable =\n",
              "          await google.colab.kernel.invokeFunction('convertToInteractive',\n",
              "                                                    [key], {});\n",
              "        if (!dataTable) return;\n",
              "\n",
              "        const docLinkHtml = 'Like what you see? Visit the ' +\n",
              "          '<a target=\"_blank\" href=https://colab.research.google.com/notebooks/data_table.ipynb>data table notebook</a>'\n",
              "          + ' to learn more about interactive tables.';\n",
              "        element.innerHTML = '';\n",
              "        dataTable['output_type'] = 'display_data';\n",
              "        await google.colab.output.renderOutput(dataTable, element);\n",
              "        const docLink = document.createElement('div');\n",
              "        docLink.innerHTML = docLinkHtml;\n",
              "        element.appendChild(docLink);\n",
              "      }\n",
              "    </script>\n",
              "  </div>\n",
              "\n",
              "\n",
              "    <div id=\"df-91862634-476f-4000-86f8-f8ab11e58b94\">\n",
              "      <button class=\"colab-df-quickchart\" onclick=\"quickchart('df-91862634-476f-4000-86f8-f8ab11e58b94')\"\n",
              "                title=\"Suggest charts\"\n",
              "                style=\"display:none;\">\n",
              "\n",
              "<svg xmlns=\"http://www.w3.org/2000/svg\" height=\"24px\"viewBox=\"0 0 24 24\"\n",
              "     width=\"24px\">\n",
              "    <g>\n",
              "        <path d=\"M19 3H5c-1.1 0-2 .9-2 2v14c0 1.1.9 2 2 2h14c1.1 0 2-.9 2-2V5c0-1.1-.9-2-2-2zM9 17H7v-7h2v7zm4 0h-2V7h2v10zm4 0h-2v-4h2v4z\"/>\n",
              "    </g>\n",
              "</svg>\n",
              "      </button>\n",
              "\n",
              "<style>\n",
              "  .colab-df-quickchart {\n",
              "      --bg-color: #E8F0FE;\n",
              "      --fill-color: #1967D2;\n",
              "      --hover-bg-color: #E2EBFA;\n",
              "      --hover-fill-color: #174EA6;\n",
              "      --disabled-fill-color: #AAA;\n",
              "      --disabled-bg-color: #DDD;\n",
              "  }\n",
              "\n",
              "  [theme=dark] .colab-df-quickchart {\n",
              "      --bg-color: #3B4455;\n",
              "      --fill-color: #D2E3FC;\n",
              "      --hover-bg-color: #434B5C;\n",
              "      --hover-fill-color: #FFFFFF;\n",
              "      --disabled-bg-color: #3B4455;\n",
              "      --disabled-fill-color: #666;\n",
              "  }\n",
              "\n",
              "  .colab-df-quickchart {\n",
              "    background-color: var(--bg-color);\n",
              "    border: none;\n",
              "    border-radius: 50%;\n",
              "    cursor: pointer;\n",
              "    display: none;\n",
              "    fill: var(--fill-color);\n",
              "    height: 32px;\n",
              "    padding: 0;\n",
              "    width: 32px;\n",
              "  }\n",
              "\n",
              "  .colab-df-quickchart:hover {\n",
              "    background-color: var(--hover-bg-color);\n",
              "    box-shadow: 0 1px 2px rgba(60, 64, 67, 0.3), 0 1px 3px 1px rgba(60, 64, 67, 0.15);\n",
              "    fill: var(--button-hover-fill-color);\n",
              "  }\n",
              "\n",
              "  .colab-df-quickchart-complete:disabled,\n",
              "  .colab-df-quickchart-complete:disabled:hover {\n",
              "    background-color: var(--disabled-bg-color);\n",
              "    fill: var(--disabled-fill-color);\n",
              "    box-shadow: none;\n",
              "  }\n",
              "\n",
              "  .colab-df-spinner {\n",
              "    border: 2px solid var(--fill-color);\n",
              "    border-color: transparent;\n",
              "    border-bottom-color: var(--fill-color);\n",
              "    animation:\n",
              "      spin 1s steps(1) infinite;\n",
              "  }\n",
              "\n",
              "  @keyframes spin {\n",
              "    0% {\n",
              "      border-color: transparent;\n",
              "      border-bottom-color: var(--fill-color);\n",
              "      border-left-color: var(--fill-color);\n",
              "    }\n",
              "    20% {\n",
              "      border-color: transparent;\n",
              "      border-left-color: var(--fill-color);\n",
              "      border-top-color: var(--fill-color);\n",
              "    }\n",
              "    30% {\n",
              "      border-color: transparent;\n",
              "      border-left-color: var(--fill-color);\n",
              "      border-top-color: var(--fill-color);\n",
              "      border-right-color: var(--fill-color);\n",
              "    }\n",
              "    40% {\n",
              "      border-color: transparent;\n",
              "      border-right-color: var(--fill-color);\n",
              "      border-top-color: var(--fill-color);\n",
              "    }\n",
              "    60% {\n",
              "      border-color: transparent;\n",
              "      border-right-color: var(--fill-color);\n",
              "    }\n",
              "    80% {\n",
              "      border-color: transparent;\n",
              "      border-right-color: var(--fill-color);\n",
              "      border-bottom-color: var(--fill-color);\n",
              "    }\n",
              "    90% {\n",
              "      border-color: transparent;\n",
              "      border-bottom-color: var(--fill-color);\n",
              "    }\n",
              "  }\n",
              "</style>\n",
              "\n",
              "      <script>\n",
              "        async function quickchart(key) {\n",
              "          const quickchartButtonEl =\n",
              "            document.querySelector('#' + key + ' button');\n",
              "          quickchartButtonEl.disabled = true;  // To prevent multiple clicks.\n",
              "          quickchartButtonEl.classList.add('colab-df-spinner');\n",
              "          try {\n",
              "            const charts = await google.colab.kernel.invokeFunction(\n",
              "                'suggestCharts', [key], {});\n",
              "          } catch (error) {\n",
              "            console.error('Error during call to suggestCharts:', error);\n",
              "          }\n",
              "          quickchartButtonEl.classList.remove('colab-df-spinner');\n",
              "          quickchartButtonEl.classList.add('colab-df-quickchart-complete');\n",
              "        }\n",
              "        (() => {\n",
              "          let quickchartButtonEl =\n",
              "            document.querySelector('#df-91862634-476f-4000-86f8-f8ab11e58b94 button');\n",
              "          quickchartButtonEl.style.display =\n",
              "            google.colab.kernel.accessAllowed ? 'block' : 'none';\n",
              "        })();\n",
              "      </script>\n",
              "    </div>\n",
              "\n",
              "    </div>\n",
              "  </div>\n"
            ],
            "application/vnd.google.colaboratory.intrinsic+json": {
              "type": "dataframe",
              "variable_name": "df"
            }
          },
          "metadata": {},
          "execution_count": 2
        }
      ],
      "source": [
        "url=\"https://cf-courses-data.s3.us.cloud-object-storage.appdomain.cloud/_0eYOqji3unP1tDNKWZMjg/weatherAUS-2.csv\"\n",
        "df = pd.read_csv(url)\n",
        "df.head()"
      ],
      "execution_count": 2
    },
    {
      "cell_type": "code",
      "metadata": {
        "colab": {
          "base_uri": "https://localhost:8080/",
          "height": 805
        },
        "id": "3d842671-7ad9-4ffe-8cc5-b67a720c235c",
        "outputId": "4c46c64f-e1d5-4a69-dac7-9aa8d82680f3"
      },
      "outputs": [
        {
          "output_type": "execute_result",
          "data": {
            "text/plain": [
              "Date             145460\n",
              "Location         145460\n",
              "MinTemp          143975\n",
              "MaxTemp          144199\n",
              "Rainfall         142199\n",
              "Evaporation       82670\n",
              "Sunshine          75625\n",
              "WindGustDir      135134\n",
              "WindGustSpeed    135197\n",
              "WindDir9am       134894\n",
              "WindDir3pm       141232\n",
              "WindSpeed9am     143693\n",
              "WindSpeed3pm     142398\n",
              "Humidity9am      142806\n",
              "Humidity3pm      140953\n",
              "Pressure9am      130395\n",
              "Pressure3pm      130432\n",
              "Cloud9am          89572\n",
              "Cloud3pm          86102\n",
              "Temp9am          143693\n",
              "Temp3pm          141851\n",
              "RainToday        142199\n",
              "RainTomorrow     142193\n",
              "dtype: int64"
            ],
            "text/html": [
              "<div>\n",
              "<style scoped>\n",
              "    .dataframe tbody tr th:only-of-type {\n",
              "        vertical-align: middle;\n",
              "    }\n",
              "\n",
              "    .dataframe tbody tr th {\n",
              "        vertical-align: top;\n",
              "    }\n",
              "\n",
              "    .dataframe thead th {\n",
              "        text-align: right;\n",
              "    }\n",
              "</style>\n",
              "<table border=\"1\" class=\"dataframe\">\n",
              "  <thead>\n",
              "    <tr style=\"text-align: right;\">\n",
              "      <th></th>\n",
              "      <th>0</th>\n",
              "    </tr>\n",
              "  </thead>\n",
              "  <tbody>\n",
              "    <tr>\n",
              "      <th>Date</th>\n",
              "      <td>145460</td>\n",
              "    </tr>\n",
              "    <tr>\n",
              "      <th>Location</th>\n",
              "      <td>145460</td>\n",
              "    </tr>\n",
              "    <tr>\n",
              "      <th>MinTemp</th>\n",
              "      <td>143975</td>\n",
              "    </tr>\n",
              "    <tr>\n",
              "      <th>MaxTemp</th>\n",
              "      <td>144199</td>\n",
              "    </tr>\n",
              "    <tr>\n",
              "      <th>Rainfall</th>\n",
              "      <td>142199</td>\n",
              "    </tr>\n",
              "    <tr>\n",
              "      <th>Evaporation</th>\n",
              "      <td>82670</td>\n",
              "    </tr>\n",
              "    <tr>\n",
              "      <th>Sunshine</th>\n",
              "      <td>75625</td>\n",
              "    </tr>\n",
              "    <tr>\n",
              "      <th>WindGustDir</th>\n",
              "      <td>135134</td>\n",
              "    </tr>\n",
              "    <tr>\n",
              "      <th>WindGustSpeed</th>\n",
              "      <td>135197</td>\n",
              "    </tr>\n",
              "    <tr>\n",
              "      <th>WindDir9am</th>\n",
              "      <td>134894</td>\n",
              "    </tr>\n",
              "    <tr>\n",
              "      <th>WindDir3pm</th>\n",
              "      <td>141232</td>\n",
              "    </tr>\n",
              "    <tr>\n",
              "      <th>WindSpeed9am</th>\n",
              "      <td>143693</td>\n",
              "    </tr>\n",
              "    <tr>\n",
              "      <th>WindSpeed3pm</th>\n",
              "      <td>142398</td>\n",
              "    </tr>\n",
              "    <tr>\n",
              "      <th>Humidity9am</th>\n",
              "      <td>142806</td>\n",
              "    </tr>\n",
              "    <tr>\n",
              "      <th>Humidity3pm</th>\n",
              "      <td>140953</td>\n",
              "    </tr>\n",
              "    <tr>\n",
              "      <th>Pressure9am</th>\n",
              "      <td>130395</td>\n",
              "    </tr>\n",
              "    <tr>\n",
              "      <th>Pressure3pm</th>\n",
              "      <td>130432</td>\n",
              "    </tr>\n",
              "    <tr>\n",
              "      <th>Cloud9am</th>\n",
              "      <td>89572</td>\n",
              "    </tr>\n",
              "    <tr>\n",
              "      <th>Cloud3pm</th>\n",
              "      <td>86102</td>\n",
              "    </tr>\n",
              "    <tr>\n",
              "      <th>Temp9am</th>\n",
              "      <td>143693</td>\n",
              "    </tr>\n",
              "    <tr>\n",
              "      <th>Temp3pm</th>\n",
              "      <td>141851</td>\n",
              "    </tr>\n",
              "    <tr>\n",
              "      <th>RainToday</th>\n",
              "      <td>142199</td>\n",
              "    </tr>\n",
              "    <tr>\n",
              "      <th>RainTomorrow</th>\n",
              "      <td>142193</td>\n",
              "    </tr>\n",
              "  </tbody>\n",
              "</table>\n",
              "</div><br><label><b>dtype:</b> int64</label>"
            ]
          },
          "metadata": {},
          "execution_count": 3
        }
      ],
      "source": [
        "df.count()"
      ],
      "execution_count": 3
    },
    {
      "cell_type": "markdown",
      "metadata": {
        "id": "ac19bbde-0612-4b83-a517-05d5dbd58326"
      },
      "source": [
        "Sunshine and cloud cover seem like important features, but they have a lot of missing values, far too many to impute their missing values.\n"
      ]
    },
    {
      "cell_type": "markdown",
      "metadata": {
        "id": "6e6f12b7-f10c-484d-8563-31e5322b9596"
      },
      "source": [
        "### Drop all rows with missing values\n",
        "To try to keep things simple we'll drop rows with missing values and see what's left\n"
      ]
    },
    {
      "cell_type": "code",
      "metadata": {
        "colab": {
          "base_uri": "https://localhost:8080/"
        },
        "id": "4473b072-2a3f-494c-86c9-36fca908c0ff",
        "outputId": "d9f0dd63-8a84-4760-dbdd-9e7ae2b48cb2"
      },
      "outputs": [
        {
          "output_type": "stream",
          "name": "stdout",
          "text": [
            "<class 'pandas.core.frame.DataFrame'>\n",
            "Index: 56420 entries, 6049 to 142302\n",
            "Data columns (total 23 columns):\n",
            " #   Column         Non-Null Count  Dtype  \n",
            "---  ------         --------------  -----  \n",
            " 0   Date           56420 non-null  object \n",
            " 1   Location       56420 non-null  object \n",
            " 2   MinTemp        56420 non-null  float64\n",
            " 3   MaxTemp        56420 non-null  float64\n",
            " 4   Rainfall       56420 non-null  float64\n",
            " 5   Evaporation    56420 non-null  float64\n",
            " 6   Sunshine       56420 non-null  float64\n",
            " 7   WindGustDir    56420 non-null  object \n",
            " 8   WindGustSpeed  56420 non-null  float64\n",
            " 9   WindDir9am     56420 non-null  object \n",
            " 10  WindDir3pm     56420 non-null  object \n",
            " 11  WindSpeed9am   56420 non-null  float64\n",
            " 12  WindSpeed3pm   56420 non-null  float64\n",
            " 13  Humidity9am    56420 non-null  float64\n",
            " 14  Humidity3pm    56420 non-null  float64\n",
            " 15  Pressure9am    56420 non-null  float64\n",
            " 16  Pressure3pm    56420 non-null  float64\n",
            " 17  Cloud9am       56420 non-null  float64\n",
            " 18  Cloud3pm       56420 non-null  float64\n",
            " 19  Temp9am        56420 non-null  float64\n",
            " 20  Temp3pm        56420 non-null  float64\n",
            " 21  RainToday      56420 non-null  object \n",
            " 22  RainTomorrow   56420 non-null  object \n",
            "dtypes: float64(16), object(7)\n",
            "memory usage: 10.3+ MB\n"
          ]
        }
      ],
      "source": [
        "df = df.dropna()\n",
        "df.info()"
      ],
      "execution_count": 4
    },
    {
      "cell_type": "markdown",
      "metadata": {
        "id": "ebffaedb-cddc-4604-936e-ab7219ee139c"
      },
      "source": [
        "Since we still have 56k observations left after dropping missing values, we may not need to impute any missing values.  \n",
        "Let's see how we do.\n"
      ]
    },
    {
      "cell_type": "code",
      "metadata": {
        "colab": {
          "base_uri": "https://localhost:8080/"
        },
        "id": "e6209e12-38e2-4909-8a1f-55e69ad53df0",
        "outputId": "3c519719-9d80-46d0-bc8c-c8813fb03a9f"
      },
      "outputs": [
        {
          "output_type": "execute_result",
          "data": {
            "text/plain": [
              "Index(['Date', 'Location', 'MinTemp', 'MaxTemp', 'Rainfall', 'Evaporation',\n",
              "       'Sunshine', 'WindGustDir', 'WindGustSpeed', 'WindDir9am', 'WindDir3pm',\n",
              "       'WindSpeed9am', 'WindSpeed3pm', 'Humidity9am', 'Humidity3pm',\n",
              "       'Pressure9am', 'Pressure3pm', 'Cloud9am', 'Cloud3pm', 'Temp9am',\n",
              "       'Temp3pm', 'RainToday', 'RainTomorrow'],\n",
              "      dtype='object')"
            ]
          },
          "metadata": {},
          "execution_count": 5
        }
      ],
      "source": [
        "df.columns"
      ],
      "execution_count": 5
    },
    {
      "cell_type": "markdown",
      "metadata": {
        "id": "139cf045-86fb-42ff-bf95-9a0a1b0d2ef5"
      },
      "source": [
        "## Data leakage considerations\n",
        "Consider the descriptions above for the columns in the data set. Are there any practical limitations to being able to predict whether it will rain tomorrow given the available data?\n",
        "\n",
        "## Points to note - 1\n",
        "List some of the features that would be inefficient in predicting tomorrow's rainfall. There will be a question in the quiz that follows based on this observation.\n"
      ]
    },
    {
      "cell_type": "markdown",
      "metadata": {
        "id": "a484b78d-2066-4032-bdea-4fa42a2a1b86"
      },
      "source": [
        "<details><summary>Click here for Hint</summary>\n",
        "        \n",
        "Consider features that rely on the entire duration of today for their evaluation.     \n",
        "    \n",
        "</details>\n"
      ]
    },
    {
      "cell_type": "markdown",
      "metadata": {
        "id": "1d33a545-2112-4b9d-aca9-657f3616ea4d"
      },
      "source": [
        "If we adjust our approach and aim to predict today’s rainfall using historical weather data up to and including yesterday, then we can legitimately utilize all of the available features. This shift would be particularly useful for practical applications, such as deciding whether you will bike to work today.\n",
        "\n",
        "With this new target, we should update the names of the rain columns accordingly to avoid confusion.\n"
      ]
    },
    {
      "cell_type": "code",
      "metadata": {
        "id": "f6283020-ade8-4ddf-a8dd-179371b3672a"
      },
      "outputs": [],
      "source": [
        "df = df.rename(columns={'RainToday': 'RainYesterday',\n",
        "                        'RainTomorrow': 'RainToday'\n",
        "                        })"
      ],
      "execution_count": 6
    },
    {
      "cell_type": "markdown",
      "metadata": {
        "id": "487fca5f-d2d7-4759-ab96-ba8331469e8e"
      },
      "source": [
        "## Data Granularity\n"
      ]
    },
    {
      "cell_type": "markdown",
      "metadata": {
        "id": "ae30310f-40fa-4586-b539-8b333b0ced87"
      },
      "source": [
        "Would the weather patterns have the same predictability in vastly different locations in Australia? I would think not.  \n",
        "The chance of rain in one location can be much higher than in another.\n",
        "Using all of the locations requires a more complex model as it needs to adapt to local weather patterns.  \n",
        "Let's see how many observations we have for each location, and see if we can reduce our attention to a smaller region.\n"
      ]
    },
    {
      "cell_type": "markdown",
      "metadata": {
        "id": "89e742e9-dc85-48d0-b45d-674e28a0780e"
      },
      "source": [
        "## Location selection\n",
        "You could do some research to group cities in the `Location` column by distance, which I've done for you behind the scenes.  \n",
        "I found that Watsonia is only 15 km from Melbourne, and the Melbourne Airport is only 18 km from Melbourne.  \n",
        "Let's group these three locations together and use only their weather data to build our localized prediction model.  \n",
        "Because there might still be some slight variations in the weather patterns we'll keep `Location` as a categorical variable.\n"
      ]
    },
    {
      "cell_type": "code",
      "metadata": {
        "colab": {
          "base_uri": "https://localhost:8080/"
        },
        "id": "d0b65d68-9444-41f5-8445-54eaa6f2e4ad",
        "outputId": "2dc24f41-1f20-4172-e981-c101ddf7b8a8"
      },
      "outputs": [
        {
          "output_type": "stream",
          "name": "stdout",
          "text": [
            "<class 'pandas.core.frame.DataFrame'>\n",
            "Index: 7557 entries, 64191 to 80997\n",
            "Data columns (total 23 columns):\n",
            " #   Column         Non-Null Count  Dtype  \n",
            "---  ------         --------------  -----  \n",
            " 0   Date           7557 non-null   object \n",
            " 1   Location       7557 non-null   object \n",
            " 2   MinTemp        7557 non-null   float64\n",
            " 3   MaxTemp        7557 non-null   float64\n",
            " 4   Rainfall       7557 non-null   float64\n",
            " 5   Evaporation    7557 non-null   float64\n",
            " 6   Sunshine       7557 non-null   float64\n",
            " 7   WindGustDir    7557 non-null   object \n",
            " 8   WindGustSpeed  7557 non-null   float64\n",
            " 9   WindDir9am     7557 non-null   object \n",
            " 10  WindDir3pm     7557 non-null   object \n",
            " 11  WindSpeed9am   7557 non-null   float64\n",
            " 12  WindSpeed3pm   7557 non-null   float64\n",
            " 13  Humidity9am    7557 non-null   float64\n",
            " 14  Humidity3pm    7557 non-null   float64\n",
            " 15  Pressure9am    7557 non-null   float64\n",
            " 16  Pressure3pm    7557 non-null   float64\n",
            " 17  Cloud9am       7557 non-null   float64\n",
            " 18  Cloud3pm       7557 non-null   float64\n",
            " 19  Temp9am        7557 non-null   float64\n",
            " 20  Temp3pm        7557 non-null   float64\n",
            " 21  RainYesterday  7557 non-null   object \n",
            " 22  RainToday      7557 non-null   object \n",
            "dtypes: float64(16), object(7)\n",
            "memory usage: 1.4+ MB\n"
          ]
        }
      ],
      "source": [
        "df = df[df.Location.isin(['Melbourne','MelbourneAirport','Watsonia',])]\n",
        "df. info()"
      ],
      "execution_count": 7
    },
    {
      "cell_type": "markdown",
      "metadata": {
        "id": "56535529-4f32-4c5f-a208-7cb07878f5d6"
      },
      "source": [
        "We still have 7557 records, which should be enough to build a reasonably good model.  \n",
        "You could always gather more data if needed by partioning the data into similar locations or simplyby updating it from the source to include a larger time frame.\n",
        "\n",
        "## Extracting a seasonality feature\n",
        "Now consider the `Date` column. We expect the weather patterns to be seasonal, having different predictablitiy levels in winter and summer for example.  \n",
        "There may be some variation with `Year` as well, but we'll leave that out for now.\n",
        "Let's engineer a `Season` feature from `Date` and drop `Date` afterward, since it is most likely less informative than season.\n",
        "An easy way to do this is to define a function that assigns seasons to given months, then use that function to transform the `Date` column.\n"
      ]
    },
    {
      "cell_type": "markdown",
      "metadata": {
        "id": "3cc25ca8-7f3e-487d-b7dd-d704852a5d9e"
      },
      "source": [
        "### Create a function to map dates to seasons\n"
      ]
    },
    {
      "cell_type": "code",
      "metadata": {
        "id": "cd6094cd-0726-44ea-b247-db0c4a535b3e"
      },
      "outputs": [],
      "source": [
        "def date_to_season(date):\n",
        "    month = date.month\n",
        "    if (month == 12) or (month == 1) or (month == 2):\n",
        "        return 'Summer'\n",
        "    elif (month == 3) or (month == 4) or (month == 5):\n",
        "        return 'Autumn'\n",
        "    elif (month == 6) or (month == 7) or (month == 8):\n",
        "        return 'Winter'\n",
        "    elif (month == 9) or (month == 10) or (month == 11):\n",
        "        return 'Spring'"
      ],
      "execution_count": 8
    },
    {
      "cell_type": "markdown",
      "metadata": {
        "id": "d0cea7fa-ddb5-42f1-ac9e-a82699d21f66"
      },
      "source": [
        "## Exercise 1: Map the dates to seasons and drop the Date column\n",
        "Complete the code:\n",
        "```python\n",
        "# Convert the 'Date' column to datetime format\n",
        "df['Date'] = pd.to_datetime(...)\n",
        "\n",
        "# Apply the function to the 'Date' column\n",
        "df['Season'] = df['Date'].apply(date_to_season)\n",
        "\n",
        "df=df.drop(columns=...)\n",
        "df\n",
        "```\n"
      ]
    },
    {
      "cell_type": "code",
      "metadata": {
        "colab": {
          "base_uri": "https://localhost:8080/",
          "height": 235
        },
        "id": "6a51dc16-d212-464b-b043-9d4606a46b35",
        "outputId": "f3aeecf4-e1d9-47d0-f036-3d4c2e5e8e8d"
      },
      "outputs": [
        {
          "output_type": "execute_result",
          "data": {
            "text/plain": [
              "               Location  MinTemp  MaxTemp  Rainfall  Evaporation  Sunshine  \\\n",
              "64191  MelbourneAirport     11.2     19.9       0.0          5.6       8.8   \n",
              "64192  MelbourneAirport      7.8     17.8       1.2          7.2      12.9   \n",
              "64193  MelbourneAirport      6.3     21.1       0.0          6.2      10.5   \n",
              "64194  MelbourneAirport      8.1     29.2       0.0          6.4      12.5   \n",
              "64195  MelbourneAirport      9.7     29.0       0.0          7.4      12.3   \n",
              "\n",
              "      WindGustDir  WindGustSpeed WindDir9am WindDir3pm  ...  Humidity3pm  \\\n",
              "64191          SW           69.0          W         SW  ...         37.0   \n",
              "64192         SSE           56.0         SW        SSE  ...         43.0   \n",
              "64193         SSE           31.0          E          S  ...         35.0   \n",
              "64194         SSE           35.0         NE        SSE  ...         23.0   \n",
              "64195          SE           33.0         SW        SSE  ...         31.0   \n",
              "\n",
              "       Pressure9am  Pressure3pm  Cloud9am  Cloud3pm  Temp9am  Temp3pm  \\\n",
              "64191       1005.1       1006.4       7.0       7.0     15.9     18.1   \n",
              "64192       1018.0       1019.3       6.0       7.0     12.5     15.8   \n",
              "64193       1020.8       1017.6       1.0       7.0     13.4     19.6   \n",
              "64194       1016.2       1012.8       5.0       4.0     16.0     28.2   \n",
              "64195       1011.9       1010.3       6.0       2.0     19.4     27.1   \n",
              "\n",
              "       RainYesterday  RainToday  Season  \n",
              "64191             No        Yes  Summer  \n",
              "64192            Yes         No  Summer  \n",
              "64193             No         No  Summer  \n",
              "64194             No         No  Summer  \n",
              "64195             No         No  Summer  \n",
              "\n",
              "[5 rows x 23 columns]"
            ],
            "text/html": [
              "\n",
              "  <div id=\"df-98975d21-00bc-4e4b-ae03-6bf97e37a488\" class=\"colab-df-container\">\n",
              "    <div>\n",
              "<style scoped>\n",
              "    .dataframe tbody tr th:only-of-type {\n",
              "        vertical-align: middle;\n",
              "    }\n",
              "\n",
              "    .dataframe tbody tr th {\n",
              "        vertical-align: top;\n",
              "    }\n",
              "\n",
              "    .dataframe thead th {\n",
              "        text-align: right;\n",
              "    }\n",
              "</style>\n",
              "<table border=\"1\" class=\"dataframe\">\n",
              "  <thead>\n",
              "    <tr style=\"text-align: right;\">\n",
              "      <th></th>\n",
              "      <th>Location</th>\n",
              "      <th>MinTemp</th>\n",
              "      <th>MaxTemp</th>\n",
              "      <th>Rainfall</th>\n",
              "      <th>Evaporation</th>\n",
              "      <th>Sunshine</th>\n",
              "      <th>WindGustDir</th>\n",
              "      <th>WindGustSpeed</th>\n",
              "      <th>WindDir9am</th>\n",
              "      <th>WindDir3pm</th>\n",
              "      <th>...</th>\n",
              "      <th>Humidity3pm</th>\n",
              "      <th>Pressure9am</th>\n",
              "      <th>Pressure3pm</th>\n",
              "      <th>Cloud9am</th>\n",
              "      <th>Cloud3pm</th>\n",
              "      <th>Temp9am</th>\n",
              "      <th>Temp3pm</th>\n",
              "      <th>RainYesterday</th>\n",
              "      <th>RainToday</th>\n",
              "      <th>Season</th>\n",
              "    </tr>\n",
              "  </thead>\n",
              "  <tbody>\n",
              "    <tr>\n",
              "      <th>64191</th>\n",
              "      <td>MelbourneAirport</td>\n",
              "      <td>11.2</td>\n",
              "      <td>19.9</td>\n",
              "      <td>0.0</td>\n",
              "      <td>5.6</td>\n",
              "      <td>8.8</td>\n",
              "      <td>SW</td>\n",
              "      <td>69.0</td>\n",
              "      <td>W</td>\n",
              "      <td>SW</td>\n",
              "      <td>...</td>\n",
              "      <td>37.0</td>\n",
              "      <td>1005.1</td>\n",
              "      <td>1006.4</td>\n",
              "      <td>7.0</td>\n",
              "      <td>7.0</td>\n",
              "      <td>15.9</td>\n",
              "      <td>18.1</td>\n",
              "      <td>No</td>\n",
              "      <td>Yes</td>\n",
              "      <td>Summer</td>\n",
              "    </tr>\n",
              "    <tr>\n",
              "      <th>64192</th>\n",
              "      <td>MelbourneAirport</td>\n",
              "      <td>7.8</td>\n",
              "      <td>17.8</td>\n",
              "      <td>1.2</td>\n",
              "      <td>7.2</td>\n",
              "      <td>12.9</td>\n",
              "      <td>SSE</td>\n",
              "      <td>56.0</td>\n",
              "      <td>SW</td>\n",
              "      <td>SSE</td>\n",
              "      <td>...</td>\n",
              "      <td>43.0</td>\n",
              "      <td>1018.0</td>\n",
              "      <td>1019.3</td>\n",
              "      <td>6.0</td>\n",
              "      <td>7.0</td>\n",
              "      <td>12.5</td>\n",
              "      <td>15.8</td>\n",
              "      <td>Yes</td>\n",
              "      <td>No</td>\n",
              "      <td>Summer</td>\n",
              "    </tr>\n",
              "    <tr>\n",
              "      <th>64193</th>\n",
              "      <td>MelbourneAirport</td>\n",
              "      <td>6.3</td>\n",
              "      <td>21.1</td>\n",
              "      <td>0.0</td>\n",
              "      <td>6.2</td>\n",
              "      <td>10.5</td>\n",
              "      <td>SSE</td>\n",
              "      <td>31.0</td>\n",
              "      <td>E</td>\n",
              "      <td>S</td>\n",
              "      <td>...</td>\n",
              "      <td>35.0</td>\n",
              "      <td>1020.8</td>\n",
              "      <td>1017.6</td>\n",
              "      <td>1.0</td>\n",
              "      <td>7.0</td>\n",
              "      <td>13.4</td>\n",
              "      <td>19.6</td>\n",
              "      <td>No</td>\n",
              "      <td>No</td>\n",
              "      <td>Summer</td>\n",
              "    </tr>\n",
              "    <tr>\n",
              "      <th>64194</th>\n",
              "      <td>MelbourneAirport</td>\n",
              "      <td>8.1</td>\n",
              "      <td>29.2</td>\n",
              "      <td>0.0</td>\n",
              "      <td>6.4</td>\n",
              "      <td>12.5</td>\n",
              "      <td>SSE</td>\n",
              "      <td>35.0</td>\n",
              "      <td>NE</td>\n",
              "      <td>SSE</td>\n",
              "      <td>...</td>\n",
              "      <td>23.0</td>\n",
              "      <td>1016.2</td>\n",
              "      <td>1012.8</td>\n",
              "      <td>5.0</td>\n",
              "      <td>4.0</td>\n",
              "      <td>16.0</td>\n",
              "      <td>28.2</td>\n",
              "      <td>No</td>\n",
              "      <td>No</td>\n",
              "      <td>Summer</td>\n",
              "    </tr>\n",
              "    <tr>\n",
              "      <th>64195</th>\n",
              "      <td>MelbourneAirport</td>\n",
              "      <td>9.7</td>\n",
              "      <td>29.0</td>\n",
              "      <td>0.0</td>\n",
              "      <td>7.4</td>\n",
              "      <td>12.3</td>\n",
              "      <td>SE</td>\n",
              "      <td>33.0</td>\n",
              "      <td>SW</td>\n",
              "      <td>SSE</td>\n",
              "      <td>...</td>\n",
              "      <td>31.0</td>\n",
              "      <td>1011.9</td>\n",
              "      <td>1010.3</td>\n",
              "      <td>6.0</td>\n",
              "      <td>2.0</td>\n",
              "      <td>19.4</td>\n",
              "      <td>27.1</td>\n",
              "      <td>No</td>\n",
              "      <td>No</td>\n",
              "      <td>Summer</td>\n",
              "    </tr>\n",
              "  </tbody>\n",
              "</table>\n",
              "<p>5 rows × 23 columns</p>\n",
              "</div>\n",
              "    <div class=\"colab-df-buttons\">\n",
              "\n",
              "  <div class=\"colab-df-container\">\n",
              "    <button class=\"colab-df-convert\" onclick=\"convertToInteractive('df-98975d21-00bc-4e4b-ae03-6bf97e37a488')\"\n",
              "            title=\"Convert this dataframe to an interactive table.\"\n",
              "            style=\"display:none;\">\n",
              "\n",
              "  <svg xmlns=\"http://www.w3.org/2000/svg\" height=\"24px\" viewBox=\"0 -960 960 960\">\n",
              "    <path d=\"M120-120v-720h720v720H120Zm60-500h600v-160H180v160Zm220 220h160v-160H400v160Zm0 220h160v-160H400v160ZM180-400h160v-160H180v160Zm440 0h160v-160H620v160ZM180-180h160v-160H180v160Zm440 0h160v-160H620v160Z\"/>\n",
              "  </svg>\n",
              "    </button>\n",
              "\n",
              "  <style>\n",
              "    .colab-df-container {\n",
              "      display:flex;\n",
              "      gap: 12px;\n",
              "    }\n",
              "\n",
              "    .colab-df-convert {\n",
              "      background-color: #E8F0FE;\n",
              "      border: none;\n",
              "      border-radius: 50%;\n",
              "      cursor: pointer;\n",
              "      display: none;\n",
              "      fill: #1967D2;\n",
              "      height: 32px;\n",
              "      padding: 0 0 0 0;\n",
              "      width: 32px;\n",
              "    }\n",
              "\n",
              "    .colab-df-convert:hover {\n",
              "      background-color: #E2EBFA;\n",
              "      box-shadow: 0px 1px 2px rgba(60, 64, 67, 0.3), 0px 1px 3px 1px rgba(60, 64, 67, 0.15);\n",
              "      fill: #174EA6;\n",
              "    }\n",
              "\n",
              "    .colab-df-buttons div {\n",
              "      margin-bottom: 4px;\n",
              "    }\n",
              "\n",
              "    [theme=dark] .colab-df-convert {\n",
              "      background-color: #3B4455;\n",
              "      fill: #D2E3FC;\n",
              "    }\n",
              "\n",
              "    [theme=dark] .colab-df-convert:hover {\n",
              "      background-color: #434B5C;\n",
              "      box-shadow: 0px 1px 3px 1px rgba(0, 0, 0, 0.15);\n",
              "      filter: drop-shadow(0px 1px 2px rgba(0, 0, 0, 0.3));\n",
              "      fill: #FFFFFF;\n",
              "    }\n",
              "  </style>\n",
              "\n",
              "    <script>\n",
              "      const buttonEl =\n",
              "        document.querySelector('#df-98975d21-00bc-4e4b-ae03-6bf97e37a488 button.colab-df-convert');\n",
              "      buttonEl.style.display =\n",
              "        google.colab.kernel.accessAllowed ? 'block' : 'none';\n",
              "\n",
              "      async function convertToInteractive(key) {\n",
              "        const element = document.querySelector('#df-98975d21-00bc-4e4b-ae03-6bf97e37a488');\n",
              "        const dataTable =\n",
              "          await google.colab.kernel.invokeFunction('convertToInteractive',\n",
              "                                                    [key], {});\n",
              "        if (!dataTable) return;\n",
              "\n",
              "        const docLinkHtml = 'Like what you see? Visit the ' +\n",
              "          '<a target=\"_blank\" href=https://colab.research.google.com/notebooks/data_table.ipynb>data table notebook</a>'\n",
              "          + ' to learn more about interactive tables.';\n",
              "        element.innerHTML = '';\n",
              "        dataTable['output_type'] = 'display_data';\n",
              "        await google.colab.output.renderOutput(dataTable, element);\n",
              "        const docLink = document.createElement('div');\n",
              "        docLink.innerHTML = docLinkHtml;\n",
              "        element.appendChild(docLink);\n",
              "      }\n",
              "    </script>\n",
              "  </div>\n",
              "\n",
              "\n",
              "    <div id=\"df-587eb8ba-7db2-4e00-8a37-546680641b99\">\n",
              "      <button class=\"colab-df-quickchart\" onclick=\"quickchart('df-587eb8ba-7db2-4e00-8a37-546680641b99')\"\n",
              "                title=\"Suggest charts\"\n",
              "                style=\"display:none;\">\n",
              "\n",
              "<svg xmlns=\"http://www.w3.org/2000/svg\" height=\"24px\"viewBox=\"0 0 24 24\"\n",
              "     width=\"24px\">\n",
              "    <g>\n",
              "        <path d=\"M19 3H5c-1.1 0-2 .9-2 2v14c0 1.1.9 2 2 2h14c1.1 0 2-.9 2-2V5c0-1.1-.9-2-2-2zM9 17H7v-7h2v7zm4 0h-2V7h2v10zm4 0h-2v-4h2v4z\"/>\n",
              "    </g>\n",
              "</svg>\n",
              "      </button>\n",
              "\n",
              "<style>\n",
              "  .colab-df-quickchart {\n",
              "      --bg-color: #E8F0FE;\n",
              "      --fill-color: #1967D2;\n",
              "      --hover-bg-color: #E2EBFA;\n",
              "      --hover-fill-color: #174EA6;\n",
              "      --disabled-fill-color: #AAA;\n",
              "      --disabled-bg-color: #DDD;\n",
              "  }\n",
              "\n",
              "  [theme=dark] .colab-df-quickchart {\n",
              "      --bg-color: #3B4455;\n",
              "      --fill-color: #D2E3FC;\n",
              "      --hover-bg-color: #434B5C;\n",
              "      --hover-fill-color: #FFFFFF;\n",
              "      --disabled-bg-color: #3B4455;\n",
              "      --disabled-fill-color: #666;\n",
              "  }\n",
              "\n",
              "  .colab-df-quickchart {\n",
              "    background-color: var(--bg-color);\n",
              "    border: none;\n",
              "    border-radius: 50%;\n",
              "    cursor: pointer;\n",
              "    display: none;\n",
              "    fill: var(--fill-color);\n",
              "    height: 32px;\n",
              "    padding: 0;\n",
              "    width: 32px;\n",
              "  }\n",
              "\n",
              "  .colab-df-quickchart:hover {\n",
              "    background-color: var(--hover-bg-color);\n",
              "    box-shadow: 0 1px 2px rgba(60, 64, 67, 0.3), 0 1px 3px 1px rgba(60, 64, 67, 0.15);\n",
              "    fill: var(--button-hover-fill-color);\n",
              "  }\n",
              "\n",
              "  .colab-df-quickchart-complete:disabled,\n",
              "  .colab-df-quickchart-complete:disabled:hover {\n",
              "    background-color: var(--disabled-bg-color);\n",
              "    fill: var(--disabled-fill-color);\n",
              "    box-shadow: none;\n",
              "  }\n",
              "\n",
              "  .colab-df-spinner {\n",
              "    border: 2px solid var(--fill-color);\n",
              "    border-color: transparent;\n",
              "    border-bottom-color: var(--fill-color);\n",
              "    animation:\n",
              "      spin 1s steps(1) infinite;\n",
              "  }\n",
              "\n",
              "  @keyframes spin {\n",
              "    0% {\n",
              "      border-color: transparent;\n",
              "      border-bottom-color: var(--fill-color);\n",
              "      border-left-color: var(--fill-color);\n",
              "    }\n",
              "    20% {\n",
              "      border-color: transparent;\n",
              "      border-left-color: var(--fill-color);\n",
              "      border-top-color: var(--fill-color);\n",
              "    }\n",
              "    30% {\n",
              "      border-color: transparent;\n",
              "      border-left-color: var(--fill-color);\n",
              "      border-top-color: var(--fill-color);\n",
              "      border-right-color: var(--fill-color);\n",
              "    }\n",
              "    40% {\n",
              "      border-color: transparent;\n",
              "      border-right-color: var(--fill-color);\n",
              "      border-top-color: var(--fill-color);\n",
              "    }\n",
              "    60% {\n",
              "      border-color: transparent;\n",
              "      border-right-color: var(--fill-color);\n",
              "    }\n",
              "    80% {\n",
              "      border-color: transparent;\n",
              "      border-right-color: var(--fill-color);\n",
              "      border-bottom-color: var(--fill-color);\n",
              "    }\n",
              "    90% {\n",
              "      border-color: transparent;\n",
              "      border-bottom-color: var(--fill-color);\n",
              "    }\n",
              "  }\n",
              "</style>\n",
              "\n",
              "      <script>\n",
              "        async function quickchart(key) {\n",
              "          const quickchartButtonEl =\n",
              "            document.querySelector('#' + key + ' button');\n",
              "          quickchartButtonEl.disabled = true;  // To prevent multiple clicks.\n",
              "          quickchartButtonEl.classList.add('colab-df-spinner');\n",
              "          try {\n",
              "            const charts = await google.colab.kernel.invokeFunction(\n",
              "                'suggestCharts', [key], {});\n",
              "          } catch (error) {\n",
              "            console.error('Error during call to suggestCharts:', error);\n",
              "          }\n",
              "          quickchartButtonEl.classList.remove('colab-df-spinner');\n",
              "          quickchartButtonEl.classList.add('colab-df-quickchart-complete');\n",
              "        }\n",
              "        (() => {\n",
              "          let quickchartButtonEl =\n",
              "            document.querySelector('#df-587eb8ba-7db2-4e00-8a37-546680641b99 button');\n",
              "          quickchartButtonEl.style.display =\n",
              "            google.colab.kernel.accessAllowed ? 'block' : 'none';\n",
              "        })();\n",
              "      </script>\n",
              "    </div>\n",
              "\n",
              "    </div>\n",
              "  </div>\n"
            ],
            "application/vnd.google.colaboratory.intrinsic+json": {
              "type": "dataframe",
              "variable_name": "df"
            }
          },
          "metadata": {},
          "execution_count": 9
        }
      ],
      "source": [
        "# Write your response.\n",
        "# Convert the 'Date' column to datetime format\n",
        "df['Date'] = pd.to_datetime(df['Date'])\n",
        "\n",
        "# Apply the function to the 'Date' column\n",
        "df['Season'] = df['Date'].apply(date_to_season)\n",
        "\n",
        "# Drop the original 'Date' column\n",
        "df = df.drop(columns=['Date'])\n",
        "\n",
        "# Mostrar el DataFrame para verificar\n",
        "df.head()\n"
      ],
      "execution_count": 9
    },
    {
      "cell_type": "markdown",
      "metadata": {
        "id": "a8b4ebcb-7fdd-49d1-b3ab-0d7574b2a50e"
      },
      "source": [
        "Looks like we have a good set of features to work with.\n",
        "\n",
        "Let's go ahead and build our model.\n",
        "\n",
        "But wait, let's take a look at how well balanced our target is.\n"
      ]
    },
    {
      "cell_type": "markdown",
      "metadata": {
        "id": "68727dea-f16d-4386-9131-0a311d6de1a0"
      },
      "source": [
        "## Exercise 2. Define the feature and target dataframes\n",
        "Complete the followng code:  \n",
        "```python\n",
        "X = df.drop(columns='...', axis=1)\n",
        "y = df['...']\n",
        "```\n"
      ]
    },
    {
      "cell_type": "code",
      "metadata": {
        "colab": {
          "base_uri": "https://localhost:8080/"
        },
        "id": "61dcb4a2-e6d2-4c30-a932-1f404891840d",
        "outputId": "4e4e76db-8ab8-4eb7-d19a-3a5aaf82d03e"
      },
      "outputs": [
        {
          "output_type": "execute_result",
          "data": {
            "text/plain": [
              "((7557, 22), (7557,), np.float64(0.237))"
            ]
          },
          "metadata": {},
          "execution_count": 10
        }
      ],
      "source": [
        "# Write your response.\n",
        "# Features = todo menos el target\n",
        "X = df.drop(columns=['RainToday'], axis=1)\n",
        "\n",
        "# Target (codificado a 0/1)\n",
        "y = df['RainToday'].map({'No': 0, 'Yes': 1}).astype(int)\n",
        "\n",
        "X.shape, y.shape, y.mean().round(3)  # chequeo rápido\n"
      ],
      "execution_count": 10
    },
    {
      "cell_type": "markdown",
      "metadata": {
        "id": "713b859d-7d61-4e6f-925a-e5f08d8bee95"
      },
      "source": [
        "## Exercise 3. How balanced are the classes?\n",
        "Display the counts of each class.\n",
        "\n",
        "Complete the following code:\n",
        "```python\n",
        "... .value_counts()\n",
        "```\n"
      ]
    },
    {
      "cell_type": "code",
      "metadata": {
        "colab": {
          "base_uri": "https://localhost:8080/"
        },
        "id": "bf11ad6b-1808-4d22-a6be-6365a32b5323",
        "outputId": "8b7cbc32-b461-44e1-8a7c-5aa4dfb45274"
      },
      "outputs": [
        {
          "output_type": "stream",
          "name": "stdout",
          "text": [
            "Baseline (always predict majority class): 0.763\n"
          ]
        }
      ],
      "source": [
        "# Write your response.\n",
        "# Conteos absolutos\n",
        "y.value_counts()\n",
        "\n",
        "# Proporciones (útil para el comentario del Ej. 4)\n",
        "y.value_counts(normalize=True).round(3)\n",
        "\n",
        "# (opcional) baseline de “siempre predecir la clase mayoritaria”\n",
        "baseline = y.value_counts(normalize=True).max()\n",
        "print(f\"Baseline (always predict majority class): {baseline:.3f}\")\n"
      ],
      "execution_count": 11
    },
    {
      "cell_type": "markdown",
      "metadata": {
        "id": "0b9a783d-2346-44e1-8392-39cbd1d2b875"
      },
      "source": [
        "## Exercise 4. What can you conclude from these counts?\n",
        "- How often does it rain annualy in the Melbourne area?\n",
        "- How accurate would you be if you just assumed it won't rain every day?\n",
        "- Is this a balanced dataset?\n",
        "- Next steps?\n"
      ]
    },
    {
      "cell_type": "code",
      "metadata": {
        "colab": {
          "base_uri": "https://localhost:8080/",
          "height": 111
        },
        "id": "a3bc47e1-c22b-450b-abca-0b838472c164",
        "outputId": "23c91ef6-2118-4387-d98d-cfa3bbdf981a"
      },
      "outputs": [
        {
          "output_type": "error",
          "ename": "SyntaxError",
          "evalue": "invalid character '¿' (U+00BF) (ipython-input-1294062569.py, line 8)",
          "traceback": [
            "\u001b[0;36m  File \u001b[0;32m\"/tmp/ipython-input-1294062569.py\"\u001b[0;36m, line \u001b[0;32m8\u001b[0m\n\u001b[0;31m    - **¿Está balanceado?** No, el dataset está **desbalanceado** (clase mayoritaria = “No rain”).\u001b[0m\n\u001b[0m        ^\u001b[0m\n\u001b[0;31mSyntaxError\u001b[0m\u001b[0;31m:\u001b[0m invalid character '¿' (U+00BF)\n"
          ]
        }
      ],
      "source": [
        "## Write your response here and convert the cell to a markdown.\n",
        "## Class balance conclusions\n",
        "\n",
        "- **Distribución de clases:** ~76% días sin lluvia y ~24% días con lluvia.\n",
        "- **Frecuencia anual de lluvia (Melbourne):** Llueve aproximadamente 1 de cada 4 días.\n",
        "- **Baseline (always predict \"No rain\"):** 76.3% de accuracy.\n",
        "  Esto significa que un clasificador trivial ya obtiene un accuracy alto.\n",
        "- **¿Está balanceado?** No, el dataset está **desbalanceado** (clase mayoritaria = “No rain”).\n",
        "- **Implicación:** Accuracy sola no es una métrica suficiente, necesitamos usar métricas como:\n",
        "  - **ROC-AUC**, **PR-AUC**, **Balanced Accuracy**, **F1-score** y la **matriz de confusión**.\n",
        "- **Próximos pasos:**\n",
        "  - Entrenar modelos con `class_weight=\"balanced\"` para compensar.\n",
        "  - Evaluar con métricas robustas y ajustar thresholds.\n",
        "  - (Opcional) probar técnicas de resampling si fuera necesario."
      ],
      "execution_count": 13
    },
    {
      "cell_type": "markdown",
      "metadata": {
        "id": "c8055736-5b2f-4300-94a9-4259960cd11e"
      },
      "source": [
        "## Exercise 5. Split data into training and test sets, ensuring target stratification\n",
        "\n",
        "Complete the followng code:\n",
        "```python\n",
        "X_train, X_test, y_train, y_test = train_test_split(..., ..., test_size=0.2, stratify=..., random_state=42)\n",
        "```\n"
      ]
    },
    {
      "cell_type": "code",
      "metadata": {
        "colab": {
          "base_uri": "https://localhost:8080/"
        },
        "id": "1e193fb6-79a1-4c9f-bc28-0ef47def280f",
        "outputId": "8586ec8d-b33e-41d0-ede4-6ec45fed8bab"
      },
      "outputs": [
        {
          "output_type": "execute_result",
          "data": {
            "text/plain": [
              "((6045, 22), (1512, 22), np.float64(0.237), np.float64(0.237))"
            ]
          },
          "metadata": {},
          "execution_count": 14
        }
      ],
      "source": [
        "# Write your response.\n",
        "from sklearn.model_selection import train_test_split\n",
        "\n",
        "X_train, X_test, y_train, y_test = train_test_split(\n",
        "    X, y,\n",
        "    test_size=0.2,\n",
        "    stratify=y,\n",
        "    random_state=42\n",
        ")\n",
        "\n",
        "X_train.shape, X_test.shape, y_train.mean().round(3), y_test.mean().round(3)\n"
      ],
      "execution_count": 14
    },
    {
      "cell_type": "markdown",
      "metadata": {
        "id": "7547e7a5-445f-41b1-b709-d86370177d43"
      },
      "source": [
        "## Define preprocessing transformers for numerical and categorical features\n",
        "## Exercise 6. Automatically detect numerical and categorical columns and assign them to separate numeric and categorical features\n",
        "\n",
        "Complete the followng code:\n",
        "```python\n",
        "numeric_features = X_train.select_dtypes(include=['...']).columns.tolist()  \n",
        "categorical_features = X_train.select_dtypes(include=['...', 'category']).columns.tolist()\n",
        "```\n"
      ]
    },
    {
      "cell_type": "code",
      "metadata": {
        "colab": {
          "base_uri": "https://localhost:8080/"
        },
        "id": "938848c2-4780-4b2a-ad11-43ac56a7588f",
        "outputId": "90b28069-a40d-4e68-e0c8-cf829bce8ce9"
      },
      "outputs": [
        {
          "output_type": "execute_result",
          "data": {
            "text/plain": [
              "(['MinTemp',\n",
              "  'MaxTemp',\n",
              "  'Rainfall',\n",
              "  'Evaporation',\n",
              "  'Sunshine',\n",
              "  'WindGustSpeed',\n",
              "  'WindSpeed9am',\n",
              "  'WindSpeed3pm',\n",
              "  'Humidity9am',\n",
              "  'Humidity3pm',\n",
              "  'Pressure9am',\n",
              "  'Pressure3pm',\n",
              "  'Cloud9am',\n",
              "  'Cloud3pm',\n",
              "  'Temp9am',\n",
              "  'Temp3pm'],\n",
              " ['Location',\n",
              "  'WindGustDir',\n",
              "  'WindDir9am',\n",
              "  'WindDir3pm',\n",
              "  'RainYesterday',\n",
              "  'Season'])"
            ]
          },
          "metadata": {},
          "execution_count": 15
        }
      ],
      "source": [
        "# Write your response.\n",
        "# Numéricas (int/float)\n",
        "numeric_features = X_train.select_dtypes(include=['number']).columns.tolist()\n",
        "\n",
        "# Categóricas (object/category; incluimos bool si hubiera)\n",
        "categorical_features = X_train.select_dtypes(include=['object', 'category', 'bool']).columns.tolist()\n",
        "\n",
        "numeric_features, categorical_features\n"
      ],
      "execution_count": 15
    },
    {
      "cell_type": "markdown",
      "metadata": {
        "id": "3d37fadb-d573-4785-9819-41a53c4ec82e"
      },
      "source": [
        "### Define separate transformers for both feature types and combine them into a single preprocessing transformer\n"
      ]
    },
    {
      "cell_type": "code",
      "metadata": {
        "id": "323dd5b5-16fe-461a-9986-3e1a6f254d73"
      },
      "outputs": [],
      "source": [
        "# Scale the numeric features\n",
        "numeric_transformer = Pipeline(steps=[('scaler', StandardScaler())])\n",
        "\n",
        "# One-hot encode the categoricals\n",
        "categorical_transformer = Pipeline(steps=[('onehot', OneHotEncoder(handle_unknown='ignore'))])"
      ],
      "execution_count": 16
    },
    {
      "cell_type": "markdown",
      "metadata": {
        "id": "d5a3567c-392b-4a3c-b27b-6a1ce58d5548"
      },
      "source": [
        "## Exercise 7. Combine the transformers into a single preprocessing column transformer\n",
        "Complete the followng code:  \n",
        "```python\n",
        "preprocessor = ColumnTransformer(\n",
        "    transformers=[\n",
        "        ('num', numeric_transformer, ...),\n",
        "        ('cat', categorical_transformer, ...)\n",
        "    ]\n",
        ")\n",
        "```\n"
      ]
    },
    {
      "cell_type": "code",
      "metadata": {
        "id": "72c714d8-b06e-497f-96d0-b488bc1d1a24"
      },
      "outputs": [],
      "source": [
        "# Write your response.\n",
        "preprocessor = ColumnTransformer(\n",
        "    transformers=[\n",
        "        ('num', numeric_transformer, numeric_features),\n",
        "        ('cat', categorical_transformer, categorical_features)\n",
        "    ]\n",
        ")"
      ],
      "execution_count": 17
    },
    {
      "cell_type": "markdown",
      "metadata": {
        "id": "e26e3ff5-5cb8-4fef-a55c-22ded322f0e9"
      },
      "source": [
        "## Exercise 8. Create a pipeline by combining the preprocessing with a Random Forest classifier\n",
        "Complete the following code:\n",
        "```python\n",
        "pipeline = Pipeline(steps=[\n",
        "    ('preprocessor', ...),\n",
        "    ('...', RandomForestClassifier(random_state=42))\n",
        "])\n",
        "```\n"
      ]
    },
    {
      "cell_type": "code",
      "metadata": {
        "id": "b813d289-8559-4222-b7d7-89d8685576fb"
      },
      "outputs": [],
      "source": [
        "# Write your response.\n",
        "pipeline = Pipeline(steps=[\n",
        "    ('preprocessor', preprocessor),\n",
        "    ('classifier', RandomForestClassifier(\n",
        "        random_state=42,\n",
        "        class_weight='balanced'   # útil por el desbalance (~24% lluvia)\n",
        "    ))\n",
        "])"
      ],
      "execution_count": 18
    },
    {
      "cell_type": "markdown",
      "metadata": {
        "id": "dac9ddfd-2b00-4c93-84d5-08fe7a52cc12"
      },
      "source": [
        "### Define a parameter grid to use in a cross validation grid search model optimizer\n"
      ]
    },
    {
      "cell_type": "code",
      "metadata": {
        "id": "5595df0d-2e01-48ff-a258-9947016ac190"
      },
      "outputs": [],
      "source": [
        "param_grid = {\n",
        "    'classifier__n_estimators': [50, 100],\n",
        "    'classifier__max_depth': [None, 10, 20],\n",
        "    'classifier__min_samples_split': [2, 5]\n",
        "}"
      ],
      "execution_count": 19
    },
    {
      "cell_type": "markdown",
      "metadata": {
        "id": "e59adb11-3cc8-4404-b7a1-2f6e9e31c66e"
      },
      "source": [
        "### Pipeline usage in crossvalidation\n",
        "Recall that the pipeline is repeatedly used within the crossvalidation by fitting on each internal training fold and predicting on its corresponding validation fold\n"
      ]
    },
    {
      "cell_type": "markdown",
      "metadata": {
        "id": "5a9e759d-1e9f-42b7-a135-075ac2baa7f2"
      },
      "source": [
        "## Perform grid search cross-validation and fit the best model to the training data\n",
        "### Select a cross-validation method, ensuring target stratification during validation\n"
      ]
    },
    {
      "cell_type": "code",
      "metadata": {
        "id": "c131f0d4-23eb-4669-bfb6-abfc36592712"
      },
      "outputs": [],
      "source": [
        "cv = StratifiedKFold(n_splits=5, shuffle=True)"
      ],
      "execution_count": 20
    },
    {
      "cell_type": "markdown",
      "metadata": {
        "id": "7da6193d-f386-4e69-9dac-6e08c6eb199b"
      },
      "source": [
        "## Exercise 9. Instantiate and fit GridSearchCV to the pipeline\n",
        "Complete the followng code:  \n",
        "```python\n",
        "grid_search = GridSearchCV(..., param_grid, cv=..., scoring='accuracy', verbose=2)  \n",
        "grid_search.fit(..., ...)\n",
        "```\n"
      ]
    },
    {
      "cell_type": "code",
      "metadata": {
        "colab": {
          "base_uri": "https://localhost:8080/",
          "height": 363
        },
        "id": "8ff28e4b-9a91-4253-97b3-00fe2d8e953f",
        "outputId": "b9671991-f940-415e-d3bd-efe79fb2adb1"
      },
      "outputs": [
        {
          "output_type": "stream",
          "name": "stdout",
          "text": [
            "Fitting 5 folds for each of 8 candidates, totalling 40 fits\n"
          ]
        },
        {
          "output_type": "execute_result",
          "data": {
            "text/plain": [
              "GridSearchCV(cv=StratifiedKFold(n_splits=5, random_state=None, shuffle=True),\n",
              "             estimator=Pipeline(steps=[('preprocessor',\n",
              "                                        ColumnTransformer(transformers=[('num',\n",
              "                                                                         Pipeline(steps=[('scaler',\n",
              "                                                                                          StandardScaler())]),\n",
              "                                                                         ['MinTemp',\n",
              "                                                                          'MaxTemp',\n",
              "                                                                          'Rainfall',\n",
              "                                                                          'Evaporation',\n",
              "                                                                          'Sunshine',\n",
              "                                                                          'WindGustSpeed',\n",
              "                                                                          'WindSpeed9am',\n",
              "                                                                          'WindSpeed3pm',\n",
              "                                                                          'Humidity9am',\n",
              "                                                                          'Humidity3pm',\n",
              "                                                                          'Pressure9am',\n",
              "                                                                          'Pr...\n",
              "                                                                         ['Location',\n",
              "                                                                          'WindGustDir',\n",
              "                                                                          'WindDir9am',\n",
              "                                                                          'WindDir3pm',\n",
              "                                                                          'RainYesterday',\n",
              "                                                                          'Season'])])),\n",
              "                                       ('classifier',\n",
              "                                        RandomForestClassifier(class_weight='balanced',\n",
              "                                                               random_state=42))]),\n",
              "             n_jobs=-1,\n",
              "             param_grid={'classifier__max_depth': [None, 10],\n",
              "                         'classifier__max_features': ['sqrt'],\n",
              "                         'classifier__min_samples_leaf': [1, 3],\n",
              "                         'classifier__n_estimators': [100, 200]},\n",
              "             scoring='accuracy', verbose=2)"
            ],
            "text/html": [
              "<style>#sk-container-id-1 {\n",
              "  /* Definition of color scheme common for light and dark mode */\n",
              "  --sklearn-color-text: #000;\n",
              "  --sklearn-color-text-muted: #666;\n",
              "  --sklearn-color-line: gray;\n",
              "  /* Definition of color scheme for unfitted estimators */\n",
              "  --sklearn-color-unfitted-level-0: #fff5e6;\n",
              "  --sklearn-color-unfitted-level-1: #f6e4d2;\n",
              "  --sklearn-color-unfitted-level-2: #ffe0b3;\n",
              "  --sklearn-color-unfitted-level-3: chocolate;\n",
              "  /* Definition of color scheme for fitted estimators */\n",
              "  --sklearn-color-fitted-level-0: #f0f8ff;\n",
              "  --sklearn-color-fitted-level-1: #d4ebff;\n",
              "  --sklearn-color-fitted-level-2: #b3dbfd;\n",
              "  --sklearn-color-fitted-level-3: cornflowerblue;\n",
              "\n",
              "  /* Specific color for light theme */\n",
              "  --sklearn-color-text-on-default-background: var(--sg-text-color, var(--theme-code-foreground, var(--jp-content-font-color1, black)));\n",
              "  --sklearn-color-background: var(--sg-background-color, var(--theme-background, var(--jp-layout-color0, white)));\n",
              "  --sklearn-color-border-box: var(--sg-text-color, var(--theme-code-foreground, var(--jp-content-font-color1, black)));\n",
              "  --sklearn-color-icon: #696969;\n",
              "\n",
              "  @media (prefers-color-scheme: dark) {\n",
              "    /* Redefinition of color scheme for dark theme */\n",
              "    --sklearn-color-text-on-default-background: var(--sg-text-color, var(--theme-code-foreground, var(--jp-content-font-color1, white)));\n",
              "    --sklearn-color-background: var(--sg-background-color, var(--theme-background, var(--jp-layout-color0, #111)));\n",
              "    --sklearn-color-border-box: var(--sg-text-color, var(--theme-code-foreground, var(--jp-content-font-color1, white)));\n",
              "    --sklearn-color-icon: #878787;\n",
              "  }\n",
              "}\n",
              "\n",
              "#sk-container-id-1 {\n",
              "  color: var(--sklearn-color-text);\n",
              "}\n",
              "\n",
              "#sk-container-id-1 pre {\n",
              "  padding: 0;\n",
              "}\n",
              "\n",
              "#sk-container-id-1 input.sk-hidden--visually {\n",
              "  border: 0;\n",
              "  clip: rect(1px 1px 1px 1px);\n",
              "  clip: rect(1px, 1px, 1px, 1px);\n",
              "  height: 1px;\n",
              "  margin: -1px;\n",
              "  overflow: hidden;\n",
              "  padding: 0;\n",
              "  position: absolute;\n",
              "  width: 1px;\n",
              "}\n",
              "\n",
              "#sk-container-id-1 div.sk-dashed-wrapped {\n",
              "  border: 1px dashed var(--sklearn-color-line);\n",
              "  margin: 0 0.4em 0.5em 0.4em;\n",
              "  box-sizing: border-box;\n",
              "  padding-bottom: 0.4em;\n",
              "  background-color: var(--sklearn-color-background);\n",
              "}\n",
              "\n",
              "#sk-container-id-1 div.sk-container {\n",
              "  /* jupyter's `normalize.less` sets `[hidden] { display: none; }`\n",
              "     but bootstrap.min.css set `[hidden] { display: none !important; }`\n",
              "     so we also need the `!important` here to be able to override the\n",
              "     default hidden behavior on the sphinx rendered scikit-learn.org.\n",
              "     See: https://github.com/scikit-learn/scikit-learn/issues/21755 */\n",
              "  display: inline-block !important;\n",
              "  position: relative;\n",
              "}\n",
              "\n",
              "#sk-container-id-1 div.sk-text-repr-fallback {\n",
              "  display: none;\n",
              "}\n",
              "\n",
              "div.sk-parallel-item,\n",
              "div.sk-serial,\n",
              "div.sk-item {\n",
              "  /* draw centered vertical line to link estimators */\n",
              "  background-image: linear-gradient(var(--sklearn-color-text-on-default-background), var(--sklearn-color-text-on-default-background));\n",
              "  background-size: 2px 100%;\n",
              "  background-repeat: no-repeat;\n",
              "  background-position: center center;\n",
              "}\n",
              "\n",
              "/* Parallel-specific style estimator block */\n",
              "\n",
              "#sk-container-id-1 div.sk-parallel-item::after {\n",
              "  content: \"\";\n",
              "  width: 100%;\n",
              "  border-bottom: 2px solid var(--sklearn-color-text-on-default-background);\n",
              "  flex-grow: 1;\n",
              "}\n",
              "\n",
              "#sk-container-id-1 div.sk-parallel {\n",
              "  display: flex;\n",
              "  align-items: stretch;\n",
              "  justify-content: center;\n",
              "  background-color: var(--sklearn-color-background);\n",
              "  position: relative;\n",
              "}\n",
              "\n",
              "#sk-container-id-1 div.sk-parallel-item {\n",
              "  display: flex;\n",
              "  flex-direction: column;\n",
              "}\n",
              "\n",
              "#sk-container-id-1 div.sk-parallel-item:first-child::after {\n",
              "  align-self: flex-end;\n",
              "  width: 50%;\n",
              "}\n",
              "\n",
              "#sk-container-id-1 div.sk-parallel-item:last-child::after {\n",
              "  align-self: flex-start;\n",
              "  width: 50%;\n",
              "}\n",
              "\n",
              "#sk-container-id-1 div.sk-parallel-item:only-child::after {\n",
              "  width: 0;\n",
              "}\n",
              "\n",
              "/* Serial-specific style estimator block */\n",
              "\n",
              "#sk-container-id-1 div.sk-serial {\n",
              "  display: flex;\n",
              "  flex-direction: column;\n",
              "  align-items: center;\n",
              "  background-color: var(--sklearn-color-background);\n",
              "  padding-right: 1em;\n",
              "  padding-left: 1em;\n",
              "}\n",
              "\n",
              "\n",
              "/* Toggleable style: style used for estimator/Pipeline/ColumnTransformer box that is\n",
              "clickable and can be expanded/collapsed.\n",
              "- Pipeline and ColumnTransformer use this feature and define the default style\n",
              "- Estimators will overwrite some part of the style using the `sk-estimator` class\n",
              "*/\n",
              "\n",
              "/* Pipeline and ColumnTransformer style (default) */\n",
              "\n",
              "#sk-container-id-1 div.sk-toggleable {\n",
              "  /* Default theme specific background. It is overwritten whether we have a\n",
              "  specific estimator or a Pipeline/ColumnTransformer */\n",
              "  background-color: var(--sklearn-color-background);\n",
              "}\n",
              "\n",
              "/* Toggleable label */\n",
              "#sk-container-id-1 label.sk-toggleable__label {\n",
              "  cursor: pointer;\n",
              "  display: flex;\n",
              "  width: 100%;\n",
              "  margin-bottom: 0;\n",
              "  padding: 0.5em;\n",
              "  box-sizing: border-box;\n",
              "  text-align: center;\n",
              "  align-items: start;\n",
              "  justify-content: space-between;\n",
              "  gap: 0.5em;\n",
              "}\n",
              "\n",
              "#sk-container-id-1 label.sk-toggleable__label .caption {\n",
              "  font-size: 0.6rem;\n",
              "  font-weight: lighter;\n",
              "  color: var(--sklearn-color-text-muted);\n",
              "}\n",
              "\n",
              "#sk-container-id-1 label.sk-toggleable__label-arrow:before {\n",
              "  /* Arrow on the left of the label */\n",
              "  content: \"▸\";\n",
              "  float: left;\n",
              "  margin-right: 0.25em;\n",
              "  color: var(--sklearn-color-icon);\n",
              "}\n",
              "\n",
              "#sk-container-id-1 label.sk-toggleable__label-arrow:hover:before {\n",
              "  color: var(--sklearn-color-text);\n",
              "}\n",
              "\n",
              "/* Toggleable content - dropdown */\n",
              "\n",
              "#sk-container-id-1 div.sk-toggleable__content {\n",
              "  max-height: 0;\n",
              "  max-width: 0;\n",
              "  overflow: hidden;\n",
              "  text-align: left;\n",
              "  /* unfitted */\n",
              "  background-color: var(--sklearn-color-unfitted-level-0);\n",
              "}\n",
              "\n",
              "#sk-container-id-1 div.sk-toggleable__content.fitted {\n",
              "  /* fitted */\n",
              "  background-color: var(--sklearn-color-fitted-level-0);\n",
              "}\n",
              "\n",
              "#sk-container-id-1 div.sk-toggleable__content pre {\n",
              "  margin: 0.2em;\n",
              "  border-radius: 0.25em;\n",
              "  color: var(--sklearn-color-text);\n",
              "  /* unfitted */\n",
              "  background-color: var(--sklearn-color-unfitted-level-0);\n",
              "}\n",
              "\n",
              "#sk-container-id-1 div.sk-toggleable__content.fitted pre {\n",
              "  /* unfitted */\n",
              "  background-color: var(--sklearn-color-fitted-level-0);\n",
              "}\n",
              "\n",
              "#sk-container-id-1 input.sk-toggleable__control:checked~div.sk-toggleable__content {\n",
              "  /* Expand drop-down */\n",
              "  max-height: 200px;\n",
              "  max-width: 100%;\n",
              "  overflow: auto;\n",
              "}\n",
              "\n",
              "#sk-container-id-1 input.sk-toggleable__control:checked~label.sk-toggleable__label-arrow:before {\n",
              "  content: \"▾\";\n",
              "}\n",
              "\n",
              "/* Pipeline/ColumnTransformer-specific style */\n",
              "\n",
              "#sk-container-id-1 div.sk-label input.sk-toggleable__control:checked~label.sk-toggleable__label {\n",
              "  color: var(--sklearn-color-text);\n",
              "  background-color: var(--sklearn-color-unfitted-level-2);\n",
              "}\n",
              "\n",
              "#sk-container-id-1 div.sk-label.fitted input.sk-toggleable__control:checked~label.sk-toggleable__label {\n",
              "  background-color: var(--sklearn-color-fitted-level-2);\n",
              "}\n",
              "\n",
              "/* Estimator-specific style */\n",
              "\n",
              "/* Colorize estimator box */\n",
              "#sk-container-id-1 div.sk-estimator input.sk-toggleable__control:checked~label.sk-toggleable__label {\n",
              "  /* unfitted */\n",
              "  background-color: var(--sklearn-color-unfitted-level-2);\n",
              "}\n",
              "\n",
              "#sk-container-id-1 div.sk-estimator.fitted input.sk-toggleable__control:checked~label.sk-toggleable__label {\n",
              "  /* fitted */\n",
              "  background-color: var(--sklearn-color-fitted-level-2);\n",
              "}\n",
              "\n",
              "#sk-container-id-1 div.sk-label label.sk-toggleable__label,\n",
              "#sk-container-id-1 div.sk-label label {\n",
              "  /* The background is the default theme color */\n",
              "  color: var(--sklearn-color-text-on-default-background);\n",
              "}\n",
              "\n",
              "/* On hover, darken the color of the background */\n",
              "#sk-container-id-1 div.sk-label:hover label.sk-toggleable__label {\n",
              "  color: var(--sklearn-color-text);\n",
              "  background-color: var(--sklearn-color-unfitted-level-2);\n",
              "}\n",
              "\n",
              "/* Label box, darken color on hover, fitted */\n",
              "#sk-container-id-1 div.sk-label.fitted:hover label.sk-toggleable__label.fitted {\n",
              "  color: var(--sklearn-color-text);\n",
              "  background-color: var(--sklearn-color-fitted-level-2);\n",
              "}\n",
              "\n",
              "/* Estimator label */\n",
              "\n",
              "#sk-container-id-1 div.sk-label label {\n",
              "  font-family: monospace;\n",
              "  font-weight: bold;\n",
              "  display: inline-block;\n",
              "  line-height: 1.2em;\n",
              "}\n",
              "\n",
              "#sk-container-id-1 div.sk-label-container {\n",
              "  text-align: center;\n",
              "}\n",
              "\n",
              "/* Estimator-specific */\n",
              "#sk-container-id-1 div.sk-estimator {\n",
              "  font-family: monospace;\n",
              "  border: 1px dotted var(--sklearn-color-border-box);\n",
              "  border-radius: 0.25em;\n",
              "  box-sizing: border-box;\n",
              "  margin-bottom: 0.5em;\n",
              "  /* unfitted */\n",
              "  background-color: var(--sklearn-color-unfitted-level-0);\n",
              "}\n",
              "\n",
              "#sk-container-id-1 div.sk-estimator.fitted {\n",
              "  /* fitted */\n",
              "  background-color: var(--sklearn-color-fitted-level-0);\n",
              "}\n",
              "\n",
              "/* on hover */\n",
              "#sk-container-id-1 div.sk-estimator:hover {\n",
              "  /* unfitted */\n",
              "  background-color: var(--sklearn-color-unfitted-level-2);\n",
              "}\n",
              "\n",
              "#sk-container-id-1 div.sk-estimator.fitted:hover {\n",
              "  /* fitted */\n",
              "  background-color: var(--sklearn-color-fitted-level-2);\n",
              "}\n",
              "\n",
              "/* Specification for estimator info (e.g. \"i\" and \"?\") */\n",
              "\n",
              "/* Common style for \"i\" and \"?\" */\n",
              "\n",
              ".sk-estimator-doc-link,\n",
              "a:link.sk-estimator-doc-link,\n",
              "a:visited.sk-estimator-doc-link {\n",
              "  float: right;\n",
              "  font-size: smaller;\n",
              "  line-height: 1em;\n",
              "  font-family: monospace;\n",
              "  background-color: var(--sklearn-color-background);\n",
              "  border-radius: 1em;\n",
              "  height: 1em;\n",
              "  width: 1em;\n",
              "  text-decoration: none !important;\n",
              "  margin-left: 0.5em;\n",
              "  text-align: center;\n",
              "  /* unfitted */\n",
              "  border: var(--sklearn-color-unfitted-level-1) 1pt solid;\n",
              "  color: var(--sklearn-color-unfitted-level-1);\n",
              "}\n",
              "\n",
              ".sk-estimator-doc-link.fitted,\n",
              "a:link.sk-estimator-doc-link.fitted,\n",
              "a:visited.sk-estimator-doc-link.fitted {\n",
              "  /* fitted */\n",
              "  border: var(--sklearn-color-fitted-level-1) 1pt solid;\n",
              "  color: var(--sklearn-color-fitted-level-1);\n",
              "}\n",
              "\n",
              "/* On hover */\n",
              "div.sk-estimator:hover .sk-estimator-doc-link:hover,\n",
              ".sk-estimator-doc-link:hover,\n",
              "div.sk-label-container:hover .sk-estimator-doc-link:hover,\n",
              ".sk-estimator-doc-link:hover {\n",
              "  /* unfitted */\n",
              "  background-color: var(--sklearn-color-unfitted-level-3);\n",
              "  color: var(--sklearn-color-background);\n",
              "  text-decoration: none;\n",
              "}\n",
              "\n",
              "div.sk-estimator.fitted:hover .sk-estimator-doc-link.fitted:hover,\n",
              ".sk-estimator-doc-link.fitted:hover,\n",
              "div.sk-label-container:hover .sk-estimator-doc-link.fitted:hover,\n",
              ".sk-estimator-doc-link.fitted:hover {\n",
              "  /* fitted */\n",
              "  background-color: var(--sklearn-color-fitted-level-3);\n",
              "  color: var(--sklearn-color-background);\n",
              "  text-decoration: none;\n",
              "}\n",
              "\n",
              "/* Span, style for the box shown on hovering the info icon */\n",
              ".sk-estimator-doc-link span {\n",
              "  display: none;\n",
              "  z-index: 9999;\n",
              "  position: relative;\n",
              "  font-weight: normal;\n",
              "  right: .2ex;\n",
              "  padding: .5ex;\n",
              "  margin: .5ex;\n",
              "  width: min-content;\n",
              "  min-width: 20ex;\n",
              "  max-width: 50ex;\n",
              "  color: var(--sklearn-color-text);\n",
              "  box-shadow: 2pt 2pt 4pt #999;\n",
              "  /* unfitted */\n",
              "  background: var(--sklearn-color-unfitted-level-0);\n",
              "  border: .5pt solid var(--sklearn-color-unfitted-level-3);\n",
              "}\n",
              "\n",
              ".sk-estimator-doc-link.fitted span {\n",
              "  /* fitted */\n",
              "  background: var(--sklearn-color-fitted-level-0);\n",
              "  border: var(--sklearn-color-fitted-level-3);\n",
              "}\n",
              "\n",
              ".sk-estimator-doc-link:hover span {\n",
              "  display: block;\n",
              "}\n",
              "\n",
              "/* \"?\"-specific style due to the `<a>` HTML tag */\n",
              "\n",
              "#sk-container-id-1 a.estimator_doc_link {\n",
              "  float: right;\n",
              "  font-size: 1rem;\n",
              "  line-height: 1em;\n",
              "  font-family: monospace;\n",
              "  background-color: var(--sklearn-color-background);\n",
              "  border-radius: 1rem;\n",
              "  height: 1rem;\n",
              "  width: 1rem;\n",
              "  text-decoration: none;\n",
              "  /* unfitted */\n",
              "  color: var(--sklearn-color-unfitted-level-1);\n",
              "  border: var(--sklearn-color-unfitted-level-1) 1pt solid;\n",
              "}\n",
              "\n",
              "#sk-container-id-1 a.estimator_doc_link.fitted {\n",
              "  /* fitted */\n",
              "  border: var(--sklearn-color-fitted-level-1) 1pt solid;\n",
              "  color: var(--sklearn-color-fitted-level-1);\n",
              "}\n",
              "\n",
              "/* On hover */\n",
              "#sk-container-id-1 a.estimator_doc_link:hover {\n",
              "  /* unfitted */\n",
              "  background-color: var(--sklearn-color-unfitted-level-3);\n",
              "  color: var(--sklearn-color-background);\n",
              "  text-decoration: none;\n",
              "}\n",
              "\n",
              "#sk-container-id-1 a.estimator_doc_link.fitted:hover {\n",
              "  /* fitted */\n",
              "  background-color: var(--sklearn-color-fitted-level-3);\n",
              "}\n",
              "</style><div id=\"sk-container-id-1\" class=\"sk-top-container\"><div class=\"sk-text-repr-fallback\"><pre>GridSearchCV(cv=StratifiedKFold(n_splits=5, random_state=None, shuffle=True),\n",
              "             estimator=Pipeline(steps=[(&#x27;preprocessor&#x27;,\n",
              "                                        ColumnTransformer(transformers=[(&#x27;num&#x27;,\n",
              "                                                                         Pipeline(steps=[(&#x27;scaler&#x27;,\n",
              "                                                                                          StandardScaler())]),\n",
              "                                                                         [&#x27;MinTemp&#x27;,\n",
              "                                                                          &#x27;MaxTemp&#x27;,\n",
              "                                                                          &#x27;Rainfall&#x27;,\n",
              "                                                                          &#x27;Evaporation&#x27;,\n",
              "                                                                          &#x27;Sunshine&#x27;,\n",
              "                                                                          &#x27;WindGustSpeed&#x27;,\n",
              "                                                                          &#x27;WindSpeed9am&#x27;,\n",
              "                                                                          &#x27;WindSpeed3pm&#x27;,\n",
              "                                                                          &#x27;Humidity9am&#x27;,\n",
              "                                                                          &#x27;Humidity3pm&#x27;,\n",
              "                                                                          &#x27;Pressure9am&#x27;,\n",
              "                                                                          &#x27;Pr...\n",
              "                                                                         [&#x27;Location&#x27;,\n",
              "                                                                          &#x27;WindGustDir&#x27;,\n",
              "                                                                          &#x27;WindDir9am&#x27;,\n",
              "                                                                          &#x27;WindDir3pm&#x27;,\n",
              "                                                                          &#x27;RainYesterday&#x27;,\n",
              "                                                                          &#x27;Season&#x27;])])),\n",
              "                                       (&#x27;classifier&#x27;,\n",
              "                                        RandomForestClassifier(class_weight=&#x27;balanced&#x27;,\n",
              "                                                               random_state=42))]),\n",
              "             n_jobs=-1,\n",
              "             param_grid={&#x27;classifier__max_depth&#x27;: [None, 10],\n",
              "                         &#x27;classifier__max_features&#x27;: [&#x27;sqrt&#x27;],\n",
              "                         &#x27;classifier__min_samples_leaf&#x27;: [1, 3],\n",
              "                         &#x27;classifier__n_estimators&#x27;: [100, 200]},\n",
              "             scoring=&#x27;accuracy&#x27;, verbose=2)</pre><b>In a Jupyter environment, please rerun this cell to show the HTML representation or trust the notebook. <br />On GitHub, the HTML representation is unable to render, please try loading this page with nbviewer.org.</b></div><div class=\"sk-container\" hidden><div class=\"sk-item sk-dashed-wrapped\"><div class=\"sk-label-container\"><div class=\"sk-label fitted sk-toggleable\"><input class=\"sk-toggleable__control sk-hidden--visually\" id=\"sk-estimator-id-1\" type=\"checkbox\" ><label for=\"sk-estimator-id-1\" class=\"sk-toggleable__label fitted sk-toggleable__label-arrow\"><div><div>GridSearchCV</div></div><div><a class=\"sk-estimator-doc-link fitted\" rel=\"noreferrer\" target=\"_blank\" href=\"https://scikit-learn.org/1.6/modules/generated/sklearn.model_selection.GridSearchCV.html\">?<span>Documentation for GridSearchCV</span></a><span class=\"sk-estimator-doc-link fitted\">i<span>Fitted</span></span></div></label><div class=\"sk-toggleable__content fitted\"><pre>GridSearchCV(cv=StratifiedKFold(n_splits=5, random_state=None, shuffle=True),\n",
              "             estimator=Pipeline(steps=[(&#x27;preprocessor&#x27;,\n",
              "                                        ColumnTransformer(transformers=[(&#x27;num&#x27;,\n",
              "                                                                         Pipeline(steps=[(&#x27;scaler&#x27;,\n",
              "                                                                                          StandardScaler())]),\n",
              "                                                                         [&#x27;MinTemp&#x27;,\n",
              "                                                                          &#x27;MaxTemp&#x27;,\n",
              "                                                                          &#x27;Rainfall&#x27;,\n",
              "                                                                          &#x27;Evaporation&#x27;,\n",
              "                                                                          &#x27;Sunshine&#x27;,\n",
              "                                                                          &#x27;WindGustSpeed&#x27;,\n",
              "                                                                          &#x27;WindSpeed9am&#x27;,\n",
              "                                                                          &#x27;WindSpeed3pm&#x27;,\n",
              "                                                                          &#x27;Humidity9am&#x27;,\n",
              "                                                                          &#x27;Humidity3pm&#x27;,\n",
              "                                                                          &#x27;Pressure9am&#x27;,\n",
              "                                                                          &#x27;Pr...\n",
              "                                                                         [&#x27;Location&#x27;,\n",
              "                                                                          &#x27;WindGustDir&#x27;,\n",
              "                                                                          &#x27;WindDir9am&#x27;,\n",
              "                                                                          &#x27;WindDir3pm&#x27;,\n",
              "                                                                          &#x27;RainYesterday&#x27;,\n",
              "                                                                          &#x27;Season&#x27;])])),\n",
              "                                       (&#x27;classifier&#x27;,\n",
              "                                        RandomForestClassifier(class_weight=&#x27;balanced&#x27;,\n",
              "                                                               random_state=42))]),\n",
              "             n_jobs=-1,\n",
              "             param_grid={&#x27;classifier__max_depth&#x27;: [None, 10],\n",
              "                         &#x27;classifier__max_features&#x27;: [&#x27;sqrt&#x27;],\n",
              "                         &#x27;classifier__min_samples_leaf&#x27;: [1, 3],\n",
              "                         &#x27;classifier__n_estimators&#x27;: [100, 200]},\n",
              "             scoring=&#x27;accuracy&#x27;, verbose=2)</pre></div> </div></div><div class=\"sk-parallel\"><div class=\"sk-parallel-item\"><div class=\"sk-item\"><div class=\"sk-label-container\"><div class=\"sk-label fitted sk-toggleable\"><input class=\"sk-toggleable__control sk-hidden--visually\" id=\"sk-estimator-id-2\" type=\"checkbox\" ><label for=\"sk-estimator-id-2\" class=\"sk-toggleable__label fitted sk-toggleable__label-arrow\"><div><div>best_estimator_: Pipeline</div></div></label><div class=\"sk-toggleable__content fitted\"><pre>Pipeline(steps=[(&#x27;preprocessor&#x27;,\n",
              "                 ColumnTransformer(transformers=[(&#x27;num&#x27;,\n",
              "                                                  Pipeline(steps=[(&#x27;scaler&#x27;,\n",
              "                                                                   StandardScaler())]),\n",
              "                                                  [&#x27;MinTemp&#x27;, &#x27;MaxTemp&#x27;,\n",
              "                                                   &#x27;Rainfall&#x27;, &#x27;Evaporation&#x27;,\n",
              "                                                   &#x27;Sunshine&#x27;, &#x27;WindGustSpeed&#x27;,\n",
              "                                                   &#x27;WindSpeed9am&#x27;,\n",
              "                                                   &#x27;WindSpeed3pm&#x27;,\n",
              "                                                   &#x27;Humidity9am&#x27;, &#x27;Humidity3pm&#x27;,\n",
              "                                                   &#x27;Pressure9am&#x27;, &#x27;Pressure3pm&#x27;,\n",
              "                                                   &#x27;Cloud9am&#x27;, &#x27;Cloud3pm&#x27;,\n",
              "                                                   &#x27;Temp9am&#x27;, &#x27;Temp3pm&#x27;]),\n",
              "                                                 (&#x27;cat&#x27;,\n",
              "                                                  Pipeline(steps=[(&#x27;onehot&#x27;,\n",
              "                                                                   OneHotEncoder(handle_unknown=&#x27;ignore&#x27;))]),\n",
              "                                                  [&#x27;Location&#x27;, &#x27;WindGustDir&#x27;,\n",
              "                                                   &#x27;WindDir9am&#x27;, &#x27;WindDir3pm&#x27;,\n",
              "                                                   &#x27;RainYesterday&#x27;,\n",
              "                                                   &#x27;Season&#x27;])])),\n",
              "                (&#x27;classifier&#x27;,\n",
              "                 RandomForestClassifier(class_weight=&#x27;balanced&#x27;,\n",
              "                                        n_estimators=200, random_state=42))])</pre></div> </div></div><div class=\"sk-serial\"><div class=\"sk-item\"><div class=\"sk-serial\"><div class=\"sk-item sk-dashed-wrapped\"><div class=\"sk-label-container\"><div class=\"sk-label fitted sk-toggleable\"><input class=\"sk-toggleable__control sk-hidden--visually\" id=\"sk-estimator-id-3\" type=\"checkbox\" ><label for=\"sk-estimator-id-3\" class=\"sk-toggleable__label fitted sk-toggleable__label-arrow\"><div><div>preprocessor: ColumnTransformer</div></div><div><a class=\"sk-estimator-doc-link fitted\" rel=\"noreferrer\" target=\"_blank\" href=\"https://scikit-learn.org/1.6/modules/generated/sklearn.compose.ColumnTransformer.html\">?<span>Documentation for preprocessor: ColumnTransformer</span></a></div></label><div class=\"sk-toggleable__content fitted\"><pre>ColumnTransformer(transformers=[(&#x27;num&#x27;,\n",
              "                                 Pipeline(steps=[(&#x27;scaler&#x27;, StandardScaler())]),\n",
              "                                 [&#x27;MinTemp&#x27;, &#x27;MaxTemp&#x27;, &#x27;Rainfall&#x27;,\n",
              "                                  &#x27;Evaporation&#x27;, &#x27;Sunshine&#x27;, &#x27;WindGustSpeed&#x27;,\n",
              "                                  &#x27;WindSpeed9am&#x27;, &#x27;WindSpeed3pm&#x27;, &#x27;Humidity9am&#x27;,\n",
              "                                  &#x27;Humidity3pm&#x27;, &#x27;Pressure9am&#x27;, &#x27;Pressure3pm&#x27;,\n",
              "                                  &#x27;Cloud9am&#x27;, &#x27;Cloud3pm&#x27;, &#x27;Temp9am&#x27;,\n",
              "                                  &#x27;Temp3pm&#x27;]),\n",
              "                                (&#x27;cat&#x27;,\n",
              "                                 Pipeline(steps=[(&#x27;onehot&#x27;,\n",
              "                                                  OneHotEncoder(handle_unknown=&#x27;ignore&#x27;))]),\n",
              "                                 [&#x27;Location&#x27;, &#x27;WindGustDir&#x27;, &#x27;WindDir9am&#x27;,\n",
              "                                  &#x27;WindDir3pm&#x27;, &#x27;RainYesterday&#x27;, &#x27;Season&#x27;])])</pre></div> </div></div><div class=\"sk-parallel\"><div class=\"sk-parallel-item\"><div class=\"sk-item\"><div class=\"sk-label-container\"><div class=\"sk-label fitted sk-toggleable\"><input class=\"sk-toggleable__control sk-hidden--visually\" id=\"sk-estimator-id-4\" type=\"checkbox\" ><label for=\"sk-estimator-id-4\" class=\"sk-toggleable__label fitted sk-toggleable__label-arrow\"><div><div>num</div></div></label><div class=\"sk-toggleable__content fitted\"><pre>[&#x27;MinTemp&#x27;, &#x27;MaxTemp&#x27;, &#x27;Rainfall&#x27;, &#x27;Evaporation&#x27;, &#x27;Sunshine&#x27;, &#x27;WindGustSpeed&#x27;, &#x27;WindSpeed9am&#x27;, &#x27;WindSpeed3pm&#x27;, &#x27;Humidity9am&#x27;, &#x27;Humidity3pm&#x27;, &#x27;Pressure9am&#x27;, &#x27;Pressure3pm&#x27;, &#x27;Cloud9am&#x27;, &#x27;Cloud3pm&#x27;, &#x27;Temp9am&#x27;, &#x27;Temp3pm&#x27;]</pre></div> </div></div><div class=\"sk-serial\"><div class=\"sk-item\"><div class=\"sk-serial\"><div class=\"sk-item\"><div class=\"sk-estimator fitted sk-toggleable\"><input class=\"sk-toggleable__control sk-hidden--visually\" id=\"sk-estimator-id-5\" type=\"checkbox\" ><label for=\"sk-estimator-id-5\" class=\"sk-toggleable__label fitted sk-toggleable__label-arrow\"><div><div>StandardScaler</div></div><div><a class=\"sk-estimator-doc-link fitted\" rel=\"noreferrer\" target=\"_blank\" href=\"https://scikit-learn.org/1.6/modules/generated/sklearn.preprocessing.StandardScaler.html\">?<span>Documentation for StandardScaler</span></a></div></label><div class=\"sk-toggleable__content fitted\"><pre>StandardScaler()</pre></div> </div></div></div></div></div></div></div><div class=\"sk-parallel-item\"><div class=\"sk-item\"><div class=\"sk-label-container\"><div class=\"sk-label fitted sk-toggleable\"><input class=\"sk-toggleable__control sk-hidden--visually\" id=\"sk-estimator-id-6\" type=\"checkbox\" ><label for=\"sk-estimator-id-6\" class=\"sk-toggleable__label fitted sk-toggleable__label-arrow\"><div><div>cat</div></div></label><div class=\"sk-toggleable__content fitted\"><pre>[&#x27;Location&#x27;, &#x27;WindGustDir&#x27;, &#x27;WindDir9am&#x27;, &#x27;WindDir3pm&#x27;, &#x27;RainYesterday&#x27;, &#x27;Season&#x27;]</pre></div> </div></div><div class=\"sk-serial\"><div class=\"sk-item\"><div class=\"sk-serial\"><div class=\"sk-item\"><div class=\"sk-estimator fitted sk-toggleable\"><input class=\"sk-toggleable__control sk-hidden--visually\" id=\"sk-estimator-id-7\" type=\"checkbox\" ><label for=\"sk-estimator-id-7\" class=\"sk-toggleable__label fitted sk-toggleable__label-arrow\"><div><div>OneHotEncoder</div></div><div><a class=\"sk-estimator-doc-link fitted\" rel=\"noreferrer\" target=\"_blank\" href=\"https://scikit-learn.org/1.6/modules/generated/sklearn.preprocessing.OneHotEncoder.html\">?<span>Documentation for OneHotEncoder</span></a></div></label><div class=\"sk-toggleable__content fitted\"><pre>OneHotEncoder(handle_unknown=&#x27;ignore&#x27;)</pre></div> </div></div></div></div></div></div></div></div></div><div class=\"sk-item\"><div class=\"sk-estimator fitted sk-toggleable\"><input class=\"sk-toggleable__control sk-hidden--visually\" id=\"sk-estimator-id-8\" type=\"checkbox\" ><label for=\"sk-estimator-id-8\" class=\"sk-toggleable__label fitted sk-toggleable__label-arrow\"><div><div>RandomForestClassifier</div></div><div><a class=\"sk-estimator-doc-link fitted\" rel=\"noreferrer\" target=\"_blank\" href=\"https://scikit-learn.org/1.6/modules/generated/sklearn.ensemble.RandomForestClassifier.html\">?<span>Documentation for RandomForestClassifier</span></a></div></label><div class=\"sk-toggleable__content fitted\"><pre>RandomForestClassifier(class_weight=&#x27;balanced&#x27;, n_estimators=200,\n",
              "                       random_state=42)</pre></div> </div></div></div></div></div></div></div></div></div></div></div>"
            ]
          },
          "metadata": {},
          "execution_count": 23
        }
      ],
      "source": [
        "### Write your response.\n",
        "param_grid = {\n",
        "    \"classifier__n_estimators\": [100, 200],   # menos árboles\n",
        "    \"classifier__max_depth\": [None, 10],      # 2 opciones en vez de 3\n",
        "    \"classifier__min_samples_leaf\": [1, 3],   # 2 opciones\n",
        "    \"classifier__max_features\": [\"sqrt\"]      # 1 opción fija\n",
        "}\n",
        "\n",
        "grid_search = GridSearchCV(\n",
        "    estimator=pipeline,\n",
        "    param_grid=param_grid,\n",
        "    cv=cv,                     # StratifiedKFold(n_splits=5, shuffle=True)\n",
        "    scoring='accuracy',        # (si querés, podés probar 'balanced_accuracy' o 'roc_auc')\n",
        "    n_jobs=-1,\n",
        "    verbose=2\n",
        ")\n",
        "\n",
        "grid_search.fit(X_train, y_train)"
      ],
      "execution_count": 23
    },
    {
      "cell_type": "markdown",
      "metadata": {
        "id": "a69ff7de-44a6-45c3-94e2-be1f50014d36"
      },
      "source": [
        "### Print the best parameters and best crossvalidation score\n"
      ]
    },
    {
      "cell_type": "code",
      "metadata": {
        "colab": {
          "base_uri": "https://localhost:8080/"
        },
        "id": "48f809c9-2215-4838-9864-ad7ad8365f97",
        "outputId": "70af7313-62ea-4a94-9e01-f9564b70c39e"
      },
      "outputs": [
        {
          "output_type": "stream",
          "name": "stdout",
          "text": [
            "\n",
            "Best parameters found:  {'classifier__max_depth': None, 'classifier__max_features': 'sqrt', 'classifier__min_samples_leaf': 1, 'classifier__n_estimators': 200}\n",
            "Best cross-validation score: 0.85\n"
          ]
        }
      ],
      "source": [
        "print(\"\\nBest parameters found: \", grid_search.best_params_)\n",
        "print(\"Best cross-validation score: {:.2f}\".format(grid_search.best_score_))"
      ],
      "execution_count": 24
    },
    {
      "cell_type": "markdown",
      "metadata": {
        "id": "726b63b5-9116-4436-9e51-d7b4a6702a13"
      },
      "source": [
        "## Exercise 10. Display your model's estimated score\n",
        "Complete the followng code:  \n",
        "```python\n",
        "test_score = grid_search.score(..., ...)  \n",
        "print(\"Test set score: {:.2f}\".format(test_score))\n",
        "```\n"
      ]
    },
    {
      "cell_type": "code",
      "metadata": {
        "colab": {
          "base_uri": "https://localhost:8080/"
        },
        "id": "dd82da3c-83de-4d59-aa4f-242555807ee8",
        "outputId": "c608214c-7be4-46b9-d105-cf5c159ec135"
      },
      "outputs": [
        {
          "output_type": "stream",
          "name": "stdout",
          "text": [
            "Test set score: 0.84\n"
          ]
        }
      ],
      "source": [
        "## Write your response.\n",
        "# Puntaje en test (accuracy)\n",
        "test_score = grid_search.score(X_test, y_test)\n",
        "print(\"Test set score: {:.2f}\".format(test_score))\n"
      ],
      "execution_count": 25
    },
    {
      "cell_type": "markdown",
      "metadata": {
        "id": "55cc17fd-4415-4b3c-8ec8-aee0a7fe3cd8"
      },
      "source": [
        "So we have a reasonably accurate classifer, which is expected to correctly predict about 84% of the time whether it will rain today in the Melbourne area.  \n",
        "But careful here. Let's take a deeper look at the results.\n",
        "\n",
        "The best model is stored within the gridsearch object.\n"
      ]
    },
    {
      "cell_type": "markdown",
      "metadata": {
        "id": "ba063317-9772-4c55-8a47-616f4bf1df55"
      },
      "source": [
        "## Exercise 11. Get the model predictions from the grid search estimator on the unseen data\n",
        "Complete the followng code:\n",
        "```python\n",
        "y_pred = grid_search.predict(...)\n",
        "```\n"
      ]
    },
    {
      "cell_type": "code",
      "metadata": {
        "id": "d040b403-24e1-4b8c-8428-86f209e7fa4e"
      },
      "outputs": [],
      "source": [
        "### Write your response.\n",
        "y_pred = grid_search.predict(X_test)"
      ],
      "execution_count": 26
    },
    {
      "cell_type": "markdown",
      "metadata": {
        "id": "363bb2b2-f237-4a5c-a24f-27659e6525c4"
      },
      "source": [
        "## Exercise 12. Print the classification report\n",
        "Complete the followng code:\n",
        "```python\n",
        "print(\"\\nClassification Report:\")\n",
        "print(...(y_test, y_pred))\n",
        "```\n"
      ]
    },
    {
      "cell_type": "code",
      "metadata": {
        "colab": {
          "base_uri": "https://localhost:8080/"
        },
        "id": "2d54c147-011b-4276-94fb-549504cf1ba0",
        "outputId": "1abe1d56-379d-43dc-c9f9-942f223392a5"
      },
      "outputs": [
        {
          "output_type": "stream",
          "name": "stdout",
          "text": [
            "\n",
            "Classification Report:\n",
            "              precision    recall  f1-score   support\n",
            "\n",
            "           0      0.858     0.950     0.901      1154\n",
            "           1      0.752     0.492     0.595       358\n",
            "\n",
            "    accuracy                          0.841      1512\n",
            "   macro avg      0.805     0.721     0.748      1512\n",
            "weighted avg      0.833     0.841     0.829      1512\n",
            "\n"
          ]
        }
      ],
      "source": [
        "## Write your response.\n",
        "\n",
        "print(\"\\nClassification Report:\")\n",
        "print(classification_report(y_test, y_pred, digits=3))"
      ],
      "execution_count": 27
    },
    {
      "cell_type": "markdown",
      "metadata": {
        "id": "0521e79c-dc80-4c85-8627-e0dc7d01ea60"
      },
      "source": [
        "## Exercise 13. Plot the confusion matrix\n",
        "Complete the followng code:\n",
        "```python\n",
        "conf_matrix = ...(y_test, y_pred)\n",
        "disp = ConfusionMatrixDisplay(confusion_matrix=...)\n",
        "disp.plot(cmap='Blues')\n",
        "plt.title('Confusion Matrix')\n",
        "plt.show()\n",
        "```\n"
      ]
    },
    {
      "cell_type": "code",
      "metadata": {
        "colab": {
          "base_uri": "https://localhost:8080/",
          "height": 472
        },
        "id": "371a6b31-61f4-403f-9e2c-8f899a842db2",
        "outputId": "c2b9861f-7d8d-4c5f-e4be-9d9be016eb3a"
      },
      "outputs": [
        {
          "output_type": "display_data",
          "data": {
            "text/plain": [
              "<Figure size 640x480 with 2 Axes>"
            ],
            "image/png": "[encoded data removed]"
          },
          "metadata": {}
        }
      ],
      "source": [
        "## Write your response.\n",
        "from sklearn.metrics import confusion_matrix, ConfusionMatrixDisplay\n",
        "import matplotlib.pyplot as plt\n",
        "\n",
        "# Calcular matriz de confusión\n",
        "conf_matrix = confusion_matrix(y_test, y_pred)\n",
        "\n",
        "# Mostrar con ConfusionMatrixDisplay\n",
        "disp = ConfusionMatrixDisplay(confusion_matrix=conf_matrix)\n",
        "disp.plot(cmap='Blues')\n",
        "plt.title('Confusion Matrix')\n",
        "plt.show()\n"
      ],
      "execution_count": 28
    },
    {
      "cell_type": "markdown",
      "metadata": {
        "id": "887d9289-52ce-4c7b-bb08-51aaefa30281"
      },
      "source": [
        "Let's consider wether the results indicate a good predictor of rainfall.\n",
        "## Points to note - 2\n",
        "What is the true positive rate? There will be a question on this in the assignment that follows.\n"
      ]
    },
    {
      "cell_type": "markdown",
      "metadata": {
        "id": "d97e6e05-f2f0-45a0-a6da-5f49c5858144"
      },
      "source": [
        "<details><summary>Click here for Hints</summary>\n",
        "\n",
        "Consider the confusion matrix or the classification report and claculate the true positve rate given the information.\n",
        "    \n",
        "</details>\n"
      ]
    },
    {
      "cell_type": "code",
      "source": [
        "from sklearn.metrics import confusion_matrix\n",
        "\n",
        "# Volvemos a calcular la confusion matrix\n",
        "conf_matrix = confusion_matrix(y_test, y_pred)\n",
        "\n",
        "TN, FP, FN, TP = conf_matrix.ravel()\n",
        "\n",
        "# True Positive Rate = Recall = TP / (TP + FN)\n",
        "tpr = TP / (TP + FN)\n",
        "print(\"True Positive Rate (Recall): {:.2f}\".format(tpr))\n"
      ],
      "metadata": {
        "colab": {
          "base_uri": "https://localhost:8080/"
        },
        "id": "JrBDrZ64TSfR",
        "outputId": "1cc1aca4-edd1-44fe-ca5b-2c7043777a36"
      },
      "execution_count": 29,
      "outputs": [
        {
          "output_type": "stream",
          "name": "stdout",
          "text": [
            "True Positive Rate (Recall): 0.49\n"
          ]
        }
      ]
    },
    {
      "cell_type": "markdown",
      "metadata": {
        "id": "052cf994-f384-44f8-9af9-fd7aa09a2865"
      },
      "source": [
        "## Feature importances\n",
        "Recall that to obtain the categorical feature importances, we have to work our way backward through the modelling pipeline to associate the feature importances with their original input variables, not the one-hot encoded ones. We don't need to do this for the numeric variables because we didn't modify their names in any way.  \n",
        "Remember we went from categorical features to one-hot encoded features, using the 'cat' column transformer.\n",
        "\n",
        "Let's get all of the feature importances and associate them with their transformed features\n"
      ]
    },
    {
      "cell_type": "markdown",
      "metadata": {
        "id": "ce54e989-958c-47ce-aa3b-6f18a3fde801"
      },
      "source": [
        "## Exercise 14. Extract the feature importances\n",
        "Complete the followng code:\n",
        "```python\n",
        "feature_importances = grid_search.best_estimator_['classifier']. ...\n",
        "```\n"
      ]
    },
    {
      "cell_type": "code",
      "metadata": {
        "colab": {
          "base_uri": "https://localhost:8080/",
          "height": 910
        },
        "id": "72da5b7e-cace-4cf0-ab64-0704835e31df",
        "outputId": "480423da-5662-45d9-c7c6-5ee8149da14c"
      },
      "outputs": [
        {
          "output_type": "display_data",
          "data": {
            "text/plain": [
              "<Figure size 1000x600 with 1 Axes>"
            ],
            "image/png": "[encoded data removed]"
          },
          "metadata": {}
        },
        {
          "output_type": "execute_result",
          "data": {
            "text/plain": [
              "         Feature  Importance\n",
              "0       Sunshine    0.104474\n",
              "1    Pressure3pm    0.100608\n",
              "2    Humidity3pm    0.094187\n",
              "3    Pressure9am    0.086431\n",
              "4  WindGustSpeed    0.053307\n",
              "5        Temp3pm    0.045677\n",
              "6       Cloud3pm    0.043078\n",
              "7        MaxTemp    0.041792\n",
              "8        Temp9am    0.037590\n",
              "9        MinTemp    0.036666"
            ],
            "text/html": [
              "\n",
              "  <div id=\"df-d71e9c31-3fb5-4108-98c9-9c4ef35dfd93\" class=\"colab-df-container\">\n",
              "    <div>\n",
              "<style scoped>\n",
              "    .dataframe tbody tr th:only-of-type {\n",
              "        vertical-align: middle;\n",
              "    }\n",
              "\n",
              "    .dataframe tbody tr th {\n",
              "        vertical-align: top;\n",
              "    }\n",
              "\n",
              "    .dataframe thead th {\n",
              "        text-align: right;\n",
              "    }\n",
              "</style>\n",
              "<table border=\"1\" class=\"dataframe\">\n",
              "  <thead>\n",
              "    <tr style=\"text-align: right;\">\n",
              "      <th></th>\n",
              "      <th>Feature</th>\n",
              "      <th>Importance</th>\n",
              "    </tr>\n",
              "  </thead>\n",
              "  <tbody>\n",
              "    <tr>\n",
              "      <th>0</th>\n",
              "      <td>Sunshine</td>\n",
              "      <td>0.104474</td>\n",
              "    </tr>\n",
              "    <tr>\n",
              "      <th>1</th>\n",
              "      <td>Pressure3pm</td>\n",
              "      <td>0.100608</td>\n",
              "    </tr>\n",
              "    <tr>\n",
              "      <th>2</th>\n",
              "      <td>Humidity3pm</td>\n",
              "      <td>0.094187</td>\n",
              "    </tr>\n",
              "    <tr>\n",
              "      <th>3</th>\n",
              "      <td>Pressure9am</td>\n",
              "      <td>0.086431</td>\n",
              "    </tr>\n",
              "    <tr>\n",
              "      <th>4</th>\n",
              "      <td>WindGustSpeed</td>\n",
              "      <td>0.053307</td>\n",
              "    </tr>\n",
              "    <tr>\n",
              "      <th>5</th>\n",
              "      <td>Temp3pm</td>\n",
              "      <td>0.045677</td>\n",
              "    </tr>\n",
              "    <tr>\n",
              "      <th>6</th>\n",
              "      <td>Cloud3pm</td>\n",
              "      <td>0.043078</td>\n",
              "    </tr>\n",
              "    <tr>\n",
              "      <th>7</th>\n",
              "      <td>MaxTemp</td>\n",
              "      <td>0.041792</td>\n",
              "    </tr>\n",
              "    <tr>\n",
              "      <th>8</th>\n",
              "      <td>Temp9am</td>\n",
              "      <td>0.037590</td>\n",
              "    </tr>\n",
              "    <tr>\n",
              "      <th>9</th>\n",
              "      <td>MinTemp</td>\n",
              "      <td>0.036666</td>\n",
              "    </tr>\n",
              "  </tbody>\n",
              "</table>\n",
              "</div>\n",
              "    <div class=\"colab-df-buttons\">\n",
              "\n",
              "  <div class=\"colab-df-container\">\n",
              "    <button class=\"colab-df-convert\" onclick=\"convertToInteractive('df-d71e9c31-3fb5-4108-98c9-9c4ef35dfd93')\"\n",
              "            title=\"Convert this dataframe to an interactive table.\"\n",
              "            style=\"display:none;\">\n",
              "\n",
              "  <svg xmlns=\"http://www.w3.org/2000/svg\" height=\"24px\" viewBox=\"0 -960 960 960\">\n",
              "    <path d=\"M120-120v-720h720v720H120Zm60-500h600v-160H180v160Zm220 220h160v-160H400v160Zm0 220h160v-160H400v160ZM180-400h160v-160H180v160Zm440 0h160v-160H620v160ZM180-180h160v-160H180v160Zm440 0h160v-160H620v160Z\"/>\n",
              "  </svg>\n",
              "    </button>\n",
              "\n",
              "  <style>\n",
              "    .colab-df-container {\n",
              "      display:flex;\n",
              "      gap: 12px;\n",
              "    }\n",
              "\n",
              "    .colab-df-convert {\n",
              "      background-color: #E8F0FE;\n",
              "      border: none;\n",
              "      border-radius: 50%;\n",
              "      cursor: pointer;\n",
              "      display: none;\n",
              "      fill: #1967D2;\n",
              "      height: 32px;\n",
              "      padding: 0 0 0 0;\n",
              "      width: 32px;\n",
              "    }\n",
              "\n",
              "    .colab-df-convert:hover {\n",
              "      background-color: #E2EBFA;\n",
              "      box-shadow: 0px 1px 2px rgba(60, 64, 67, 0.3), 0px 1px 3px 1px rgba(60, 64, 67, 0.15);\n",
              "      fill: #174EA6;\n",
              "    }\n",
              "\n",
              "    .colab-df-buttons div {\n",
              "      margin-bottom: 4px;\n",
              "    }\n",
              "\n",
              "    [theme=dark] .colab-df-convert {\n",
              "      background-color: #3B4455;\n",
              "      fill: #D2E3FC;\n",
              "    }\n",
              "\n",
              "    [theme=dark] .colab-df-convert:hover {\n",
              "      background-color: #434B5C;\n",
              "      box-shadow: 0px 1px 3px 1px rgba(0, 0, 0, 0.15);\n",
              "      filter: drop-shadow(0px 1px 2px rgba(0, 0, 0, 0.3));\n",
              "      fill: #FFFFFF;\n",
              "    }\n",
              "  </style>\n",
              "\n",
              "    <script>\n",
              "      const buttonEl =\n",
              "        document.querySelector('#df-d71e9c31-3fb5-4108-98c9-9c4ef35dfd93 button.colab-df-convert');\n",
              "      buttonEl.style.display =\n",
              "        google.colab.kernel.accessAllowed ? 'block' : 'none';\n",
              "\n",
              "      async function convertToInteractive(key) {\n",
              "        const element = document.querySelector('#df-d71e9c31-3fb5-4108-98c9-9c4ef35dfd93');\n",
              "        const dataTable =\n",
              "          await google.colab.kernel.invokeFunction('convertToInteractive',\n",
              "                                                    [key], {});\n",
              "        if (!dataTable) return;\n",
              "\n",
              "        const docLinkHtml = 'Like what you see? Visit the ' +\n",
              "          '<a target=\"_blank\" href=https://colab.research.google.com/notebooks/data_table.ipynb>data table notebook</a>'\n",
              "          + ' to learn more about interactive tables.';\n",
              "        element.innerHTML = '';\n",
              "        dataTable['output_type'] = 'display_data';\n",
              "        await google.colab.output.renderOutput(dataTable, element);\n",
              "        const docLink = document.createElement('div');\n",
              "        docLink.innerHTML = docLinkHtml;\n",
              "        element.appendChild(docLink);\n",
              "      }\n",
              "    </script>\n",
              "  </div>\n",
              "\n",
              "\n",
              "    <div id=\"df-6f1d8f01-5fa3-44d0-a88b-f35b2c63d40c\">\n",
              "      <button class=\"colab-df-quickchart\" onclick=\"quickchart('df-6f1d8f01-5fa3-44d0-a88b-f35b2c63d40c')\"\n",
              "                title=\"Suggest charts\"\n",
              "                style=\"display:none;\">\n",
              "\n",
              "<svg xmlns=\"http://www.w3.org/2000/svg\" height=\"24px\"viewBox=\"0 0 24 24\"\n",
              "     width=\"24px\">\n",
              "    <g>\n",
              "        <path d=\"M19 3H5c-1.1 0-2 .9-2 2v14c0 1.1.9 2 2 2h14c1.1 0 2-.9 2-2V5c0-1.1-.9-2-2-2zM9 17H7v-7h2v7zm4 0h-2V7h2v10zm4 0h-2v-4h2v4z\"/>\n",
              "    </g>\n",
              "</svg>\n",
              "      </button>\n",
              "\n",
              "<style>\n",
              "  .colab-df-quickchart {\n",
              "      --bg-color: #E8F0FE;\n",
              "      --fill-color: #1967D2;\n",
              "      --hover-bg-color: #E2EBFA;\n",
              "      --hover-fill-color: #174EA6;\n",
              "      --disabled-fill-color: #AAA;\n",
              "      --disabled-bg-color: #DDD;\n",
              "  }\n",
              "\n",
              "  [theme=dark] .colab-df-quickchart {\n",
              "      --bg-color: #3B4455;\n",
              "      --fill-color: #D2E3FC;\n",
              "      --hover-bg-color: #434B5C;\n",
              "      --hover-fill-color: #FFFFFF;\n",
              "      --disabled-bg-color: #3B4455;\n",
              "      --disabled-fill-color: #666;\n",
              "  }\n",
              "\n",
              "  .colab-df-quickchart {\n",
              "    background-color: var(--bg-color);\n",
              "    border: none;\n",
              "    border-radius: 50%;\n",
              "    cursor: pointer;\n",
              "    display: none;\n",
              "    fill: var(--fill-color);\n",
              "    height: 32px;\n",
              "    padding: 0;\n",
              "    width: 32px;\n",
              "  }\n",
              "\n",
              "  .colab-df-quickchart:hover {\n",
              "    background-color: var(--hover-bg-color);\n",
              "    box-shadow: 0 1px 2px rgba(60, 64, 67, 0.3), 0 1px 3px 1px rgba(60, 64, 67, 0.15);\n",
              "    fill: var(--button-hover-fill-color);\n",
              "  }\n",
              "\n",
              "  .colab-df-quickchart-complete:disabled,\n",
              "  .colab-df-quickchart-complete:disabled:hover {\n",
              "    background-color: var(--disabled-bg-color);\n",
              "    fill: var(--disabled-fill-color);\n",
              "    box-shadow: none;\n",
              "  }\n",
              "\n",
              "  .colab-df-spinner {\n",
              "    border: 2px solid var(--fill-color);\n",
              "    border-color: transparent;\n",
              "    border-bottom-color: var(--fill-color);\n",
              "    animation:\n",
              "      spin 1s steps(1) infinite;\n",
              "  }\n",
              "\n",
              "  @keyframes spin {\n",
              "    0% {\n",
              "      border-color: transparent;\n",
              "      border-bottom-color: var(--fill-color);\n",
              "      border-left-color: var(--fill-color);\n",
              "    }\n",
              "    20% {\n",
              "      border-color: transparent;\n",
              "      border-left-color: var(--fill-color);\n",
              "      border-top-color: var(--fill-color);\n",
              "    }\n",
              "    30% {\n",
              "      border-color: transparent;\n",
              "      border-left-color: var(--fill-color);\n",
              "      border-top-color: var(--fill-color);\n",
              "      border-right-color: var(--fill-color);\n",
              "    }\n",
              "    40% {\n",
              "      border-color: transparent;\n",
              "      border-right-color: var(--fill-color);\n",
              "      border-top-color: var(--fill-color);\n",
              "    }\n",
              "    60% {\n",
              "      border-color: transparent;\n",
              "      border-right-color: var(--fill-color);\n",
              "    }\n",
              "    80% {\n",
              "      border-color: transparent;\n",
              "      border-right-color: var(--fill-color);\n",
              "      border-bottom-color: var(--fill-color);\n",
              "    }\n",
              "    90% {\n",
              "      border-color: transparent;\n",
              "      border-bottom-color: var(--fill-color);\n",
              "    }\n",
              "  }\n",
              "</style>\n",
              "\n",
              "      <script>\n",
              "        async function quickchart(key) {\n",
              "          const quickchartButtonEl =\n",
              "            document.querySelector('#' + key + ' button');\n",
              "          quickchartButtonEl.disabled = true;  // To prevent multiple clicks.\n",
              "          quickchartButtonEl.classList.add('colab-df-spinner');\n",
              "          try {\n",
              "            const charts = await google.colab.kernel.invokeFunction(\n",
              "                'suggestCharts', [key], {});\n",
              "          } catch (error) {\n",
              "            console.error('Error during call to suggestCharts:', error);\n",
              "          }\n",
              "          quickchartButtonEl.classList.remove('colab-df-spinner');\n",
              "          quickchartButtonEl.classList.add('colab-df-quickchart-complete');\n",
              "        }\n",
              "        (() => {\n",
              "          let quickchartButtonEl =\n",
              "            document.querySelector('#df-6f1d8f01-5fa3-44d0-a88b-f35b2c63d40c button');\n",
              "          quickchartButtonEl.style.display =\n",
              "            google.colab.kernel.accessAllowed ? 'block' : 'none';\n",
              "        })();\n",
              "      </script>\n",
              "    </div>\n",
              "\n",
              "    </div>\n",
              "  </div>\n"
            ],
            "application/vnd.google.colaboratory.intrinsic+json": {
              "type": "dataframe",
              "variable_name": "importance_df",
              "summary": "{\n  \"name\": \"importance_df\",\n  \"rows\": 73,\n  \"fields\": [\n    {\n      \"column\": \"Feature\",\n      \"properties\": {\n        \"dtype\": \"string\",\n        \"num_unique_values\": 73,\n        \"samples\": [\n          \"WindGustSpeed\",\n          \"WindGustDir_ENE\",\n          \"RainYesterday_Yes\"\n        ],\n        \"semantic_type\": \"\",\n        \"description\": \"\"\n      }\n    },\n    {\n      \"column\": \"Importance\",\n      \"properties\": {\n        \"dtype\": \"number\",\n        \"std\": 0.02390737916499811,\n        \"min\": 0.0002883568483616176,\n        \"max\": 0.10447355703088299,\n        \"num_unique_values\": 73,\n        \"samples\": [\n          0.053307021149374544,\n          0.0010082743906705337,\n          0.006456379927873542\n        ],\n        \"semantic_type\": \"\",\n        \"description\": \"\"\n      }\n    }\n  ]\n}"
            }
          },
          "metadata": {},
          "execution_count": 30
        }
      ],
      "source": [
        "## Write your response.\n",
        "import pandas as pd\n",
        "import matplotlib.pyplot as plt\n",
        "\n",
        "# 1) Extraer el OneHotEncoder para obtener los nombres de features categóricas\n",
        "prep = grid_search.best_estimator_['preprocessor']\n",
        "ohe  = prep.named_transformers_['cat'].named_steps['onehot']\n",
        "cat_names = ohe.get_feature_names_out(categorical_features)\n",
        "\n",
        "# 2) Construir la lista completa de nombres (numéricas + categóricas one-hot)\n",
        "feature_names = numeric_features + cat_names.tolist()\n",
        "\n",
        "# 3) Importancias del Random Forest dentro del pipeline\n",
        "feature_importances = grid_search.best_estimator_['classifier'].feature_importances_\n",
        "\n",
        "# 4) DataFrame ordenado de mayor a menor importancia\n",
        "importance_df = (\n",
        "    pd.DataFrame({'Feature': feature_names, 'Importance': feature_importances})\n",
        "      .sort_values('Importance', ascending=False)\n",
        "      .reset_index(drop=True)\n",
        ")\n",
        "\n",
        "# 5) Mostrar el TOP N\n",
        "N = 20  # cambiá este número si querés ver más/menos\n",
        "top_features = importance_df.head(N)\n",
        "\n",
        "# 6) Plot\n",
        "plt.figure(figsize=(10,6))\n",
        "plt.barh(top_features['Feature'], top_features['Importance'])\n",
        "plt.gca().invert_yaxis()  # feature más importante arriba\n",
        "plt.title(f'Top {N} Most Important Features in predicting whether it will rain today')\n",
        "plt.xlabel('Importance Score')\n",
        "plt.show()\n",
        "\n",
        "# (opcional) ver tabla\n",
        "importance_df.head(10)\n"
      ],
      "execution_count": 30
    },
    {
      "cell_type": "markdown",
      "metadata": {
        "id": "6aea4e25-699f-4729-995a-75304642587b"
      },
      "source": [
        "Now let's extract the feature importances and plot them as a bar graph.\n"
      ]
    },
    {
      "cell_type": "code",
      "metadata": {
        "colab": {
          "base_uri": "https://localhost:8080/",
          "height": 564
        },
        "id": "a18c2d6a-d4fe-49fc-96a0-2d1730b53253",
        "outputId": "06a70fdc-8e24-432f-b1ab-17e0db9a6524"
      },
      "outputs": [
        {
          "output_type": "display_data",
          "data": {
            "text/plain": [
              "<Figure size 1000x600 with 1 Axes>"
            ],
            "image/png": "[encoded data removed]"
          },
          "metadata": {}
        }
      ],
      "source": [
        "# Combine numeric and categorical feature names\n",
        "feature_names = numeric_features + list(grid_search.best_estimator_['preprocessor']\n",
        "                                        .named_transformers_['cat']\n",
        "                                        .named_steps['onehot']\n",
        "                                        .get_feature_names_out(categorical_features))\n",
        "\n",
        "feature_importances = grid_search.best_estimator_['classifier'].feature_importances_\n",
        "\n",
        "importance_df = pd.DataFrame({'Feature': feature_names,\n",
        "                              'Importance': feature_importances\n",
        "                             }).sort_values(by='Importance', ascending=False)\n",
        "\n",
        "N = 20  # Change this number to display more or fewer features\n",
        "top_features = importance_df.head(N)\n",
        "\n",
        "# Plotting\n",
        "plt.figure(figsize=(10, 6))\n",
        "plt.barh(top_features['Feature'], top_features['Importance'], color='skyblue')\n",
        "plt.gca().invert_yaxis()  # Invert y-axis to show the most important feature on top\n",
        "plt.title(f'Top {N} Most Important Features in predicting whether it will rain today')\n",
        "plt.xlabel('Importance Score')\n",
        "plt.show()"
      ],
      "execution_count": 31
    },
    {
      "cell_type": "markdown",
      "metadata": {
        "id": "8501225d-3041-4d7c-9773-09ac6e7eb5a0"
      },
      "source": [
        "## Point to note - 3\n",
        "Identify the most important feature for predicting whether it will rain based on the feature importance bar graph. There will be a question on this in the assignment that follows.\n"
      ]
    },
    {
      "cell_type": "markdown",
      "metadata": {
        "id": "432b6e02-76f6-4e82-bc58-5855d5ae6287"
      },
      "source": [
        "## Try another model\n",
        "#### Some thoughts.\n",
        "In practice you would want to try out different models and even revisit the data analysis to improve\n",
        "your model's performance. Maybe you can engineer better features, drop irrelevant or redundant ones, project your data onto a dimensional feature space, or impute missing values to be able to use more data. You can also try a larger set of parameters to define you search grid, or even engineer new features using cluster analysis. You can even include the clustering algorithm's hyperparameters in your search grid!\n",
        "\n",
        "With Scikit-learn's powerful pipeline and GridSearchCV classes, this is easy to do in a few steps.\n",
        "\n",
        "## Exercise 15. Update the pipeline and the parameter grid\n",
        "Let's update the pipeline and the parameter grid and train a Logistic Regression model and compare the performance of the two models. You'll need to replace the clasifier with LogisticRegression. We have supplied the parameter grid for you.\n",
        "\n",
        "Complete the following code:\n",
        "```python\n",
        "# Replace RandomForestClassifier with LogisticRegression\n",
        "pipeline.set_params(...=LogisticRegression(random_state=42))\n",
        "\n",
        "# update the model's estimator to use the new pipeline\n",
        "grid_search.estimator = ...\n",
        "\n",
        "# Define a new grid with Logistic Regression parameters\n",
        "param_grid = {\n",
        "    # 'classifier__n_estimators': [50, 100],\n",
        "    # 'classifier__max_depth': [None, 10, 20],\n",
        "    # 'classifier__min_samples_split': [2, 5],\n",
        "    'classifier__solver' : ['liblinear'],\n",
        "    'classifier__penalty': ['l1', 'l2'],\n",
        "    'classifier__class_weight' : [None, 'balanced']\n",
        "}\n",
        "\n",
        "grid_search.param_grid = ...\n",
        "\n",
        "# Fit the updated pipeline with LogisticRegression\n",
        "model.fit(..., ...)\n",
        "\n",
        "# Make predictions\n",
        "y_pred = model.predict(X_test)\n",
        "\n",
        "```\n"
      ]
    },
    {
      "cell_type": "code",
      "metadata": {
        "colab": {
          "base_uri": "https://localhost:8080/"
        },
        "id": "cfe95623-6502-44d8-8d62-d3317bf5247b",
        "outputId": "34009b60-f35e-4549-a1ea-9dbb9925c579"
      },
      "outputs": [
        {
          "output_type": "stream",
          "name": "stdout",
          "text": [
            "Fitting 5 folds for each of 16 candidates, totalling 80 fits\n",
            "Best parameters (LR): {'classifier__C': 1, 'classifier__class_weight': None, 'classifier__penalty': 'l1', 'classifier__solver': 'liblinear'}\n",
            "Best CV score (LR): 0.84\n",
            "Test set score (LR): 0.83\n",
            "Balanced accuracy (LR): 0.718\n",
            "\n",
            "Classification Report (LR):\n",
            "               precision    recall  f1-score   support\n",
            "\n",
            "           0      0.859     0.927     0.892      1154\n",
            "           1      0.684     0.508     0.583       358\n",
            "\n",
            "    accuracy                          0.828      1512\n",
            "   macro avg      0.771     0.718     0.738      1512\n",
            "weighted avg      0.817     0.828     0.819      1512\n",
            "\n",
            "Confusion Matrix (LR):\n",
            " [[1070   84]\n",
            " [ 176  182]]\n"
          ]
        }
      ],
      "source": [
        "## Write your response\n",
        "\n",
        "\n",
        "# 1) Reemplazar el clasificador del pipeline\n",
        "pipeline.set_params(classifier=LogisticRegression(max_iter=2000, random_state=42))\n",
        "\n",
        "# 2) Asegurar que el GridSearch use el pipeline actualizado\n",
        "grid_search.estimator = pipeline\n",
        "\n",
        "# 3) Nueva grilla de hiperparámetros para Logistic Regression\n",
        "#    (liblinear soporta l1 y l2; 'balanced' ayuda por el desbalance ~24% lluvia)\n",
        "param_grid = {\n",
        "    'classifier__solver': ['liblinear'],\n",
        "    'classifier__penalty': ['l1', 'l2'],\n",
        "    'classifier__C': [0.01, 0.1, 1, 10],\n",
        "    'classifier__class_weight': [None, 'balanced']\n",
        "}\n",
        "grid_search.param_grid = param_grid\n",
        "\n",
        "# 4) Entrenar\n",
        "grid_search.fit(X_train, y_train)\n",
        "\n",
        "print(\"Best parameters (LR):\", grid_search.best_params_)\n",
        "print(\"Best CV score (LR): {:.2f}\".format(grid_search.best_score_))\n",
        "\n",
        "# 5) Predicciones y métricas en test\n",
        "y_pred = grid_search.predict(X_test)\n",
        "test_score = grid_search.score(X_test, y_test)\n",
        "print(\"Test set score (LR): {:.2f}\".format(test_score))\n",
        "\n",
        "print(\"Balanced accuracy (LR): {:.3f}\".format(balanced_accuracy_score(y_test, y_pred)))\n",
        "print(\"\\nClassification Report (LR):\\n\", classification_report(y_test, y_pred, digits=3))\n",
        "print(\"Confusion Matrix (LR):\\n\", confusion_matrix(y_test, y_pred))\n"
      ],
      "execution_count": 32
    },
    {
      "cell_type": "markdown",
      "metadata": {
        "id": "11d8ad53-0ce4-4a15-95d5-0b60574d644f"
      },
      "source": [
        "###  Compare the results to your previous model.\n",
        "Display the clasification report and the confusion matrix for the new model and compare your results with the previous model.\n"
      ]
    },
    {
      "cell_type": "code",
      "metadata": {
        "colab": {
          "base_uri": "https://localhost:8080/",
          "height": 653
        },
        "id": "9afc76d8-0618-425f-b32d-37e332132055",
        "outputId": "867af9fb-fd0c-42ae-c6e6-0beba7ebbbcb"
      },
      "outputs": [
        {
          "output_type": "stream",
          "name": "stdout",
          "text": [
            "              precision    recall  f1-score   support\n",
            "\n",
            "           0       0.86      0.93      0.89      1154\n",
            "           1       0.68      0.51      0.58       358\n",
            "\n",
            "    accuracy                           0.83      1512\n",
            "   macro avg       0.77      0.72      0.74      1512\n",
            "weighted avg       0.82      0.83      0.82      1512\n",
            "\n"
          ]
        },
        {
          "output_type": "display_data",
          "data": {
            "text/plain": [
              "<Figure size 640x480 with 2 Axes>"
            ],
            "image/png": "[encoded data removed]"
          },
          "metadata": {}
        }
      ],
      "source": [
        "print(classification_report(y_test, y_pred))\n",
        "\n",
        "# Generate the confusion matrix\n",
        "conf_matrix = confusion_matrix(y_test, y_pred)\n",
        "\n",
        "plt.figure()\n",
        "sns.heatmap(conf_matrix, annot=True, cmap='Blues', fmt='d')\n",
        "\n",
        "# Set the title and labels\n",
        "plt.title('Titanic Classification Confusion Matrix')\n",
        "plt.xlabel('Predicted')\n",
        "plt.ylabel('Actual')\n",
        "\n",
        "# Show the plot\n",
        "plt.tight_layout()\n",
        "plt.show()"
      ],
      "execution_count": 33
    },
    {
      "cell_type": "markdown",
      "metadata": {
        "id": "f446fc37-7400-4ee7-90d7-f6c2a89017b9"
      },
      "source": [
        "What can you conclude about the model performances?\n"
      ]
    },
    {
      "cell_type": "markdown",
      "metadata": {
        "id": "935f7f67-3db7-41a7-9aed-4255f104154f"
      },
      "source": [
        "## Points to note - 4\n",
        "Compare the accuracy and true positive rate of rainfall predictions between the LogisticRegression model and the RandomForestClassifier model.\n",
        "\n",
        "**Note: Make sure to provide the answer in the form of a list using either bullets or numbers.**\n",
        "\n",
        "There will be a question on this in the assignment that follows.\n"
      ]
    },
    {
      "cell_type": "markdown",
      "metadata": {
        "id": "baab6c24-fe66-4b11-9936-aa4ecec96ae6"
      },
      "source": [
        "<details><summary>Click here for Hints</summary>\n",
        "        \n",
        "   Compare the accuracy percentages of both the classifiers.\n",
        "   \n",
        "   Provide the details of the number of correct predictions.\n",
        "   \n",
        "   Provide the true positive rate of LogisticRegression Classifier.\n",
        "    \n",
        "    \n",
        "</details>\n"
      ]
    },
    {
      "cell_type": "markdown",
      "source": [
        "### Model Comparison: Random Forest vs Logistic Regression\n",
        "\n",
        "1. **Random Forest Classifier**\n",
        "   - Test Accuracy: **0.84**\n",
        "   - Correct Predictions: **1272 out of 1512**\n",
        "   - True Positive Rate (Rain Recall): **49%** (176 / 358)\n",
        "\n",
        "2. **Logistic Regression Classifier**\n",
        "   - Test Accuracy: **0.83**\n",
        "   - Correct Predictions: **1252 out of 1512**\n",
        "   - True Positive Rate (Rain Recall): **51%** (182 / 358)\n",
        "\n",
        "---\n",
        "\n",
        "### Key Insights\n",
        "- The **Random Forest** achieved slightly higher overall accuracy and fewer false positives, making it stronger for general prediction.  \n",
        "- The **Logistic Regression** achieved a higher True Positive Rate for rainfall, correctly identifying slightly more rainy days, though at the cost of more false alarms and slightly lower accuracy.  \n"
      ],
      "metadata": {
        "id": "_TdWT0ZlXXfi"
      }
    },
    {
      "cell_type": "markdown",
      "metadata": {
        "id": "4dc59f6a-cd5d-4684-b445-763ce653069f"
      },
      "source": [
        "\n",
        "### Congratulations! You've made it the end of your final project!\n",
        "Well done! You now have some great tools to use for tackling complex real-world problems with machine learning.\n",
        "\n",
        "## Author\n",
        "\n",
        "<a href=\"https://www.linkedin.com/in/jpgrossman/\" target=\"_blank\">Jeff Grossman</a>\n",
        "\n",
        "### Other Contributor(s)\n",
        "\n",
        "<a href=\"https://www.linkedin.com/in/abhishek-gagneja-23051987/\" taget=\"_blank\">Abhishek Gagneja</a>\n",
        "\n",
        "<!-- ## Changelog\n",
        "\n",
        "| Date | Version | Changed by | Change Description |\n",
        "|:------------|:------|:------------------|:---------------------------------------|\n",
        "| 2024-11-26 | 0.2  | Anita Verma    | Fixed the variable used before definition in Exercise 14|\n",
        "| 2024-11-26 | 0.1  | Jeff Grossman    | Create lab |\n",
        "\n",
        " -->\n",
        "<h3 align=\"center\"> © IBM Corporation. All rights reserved. <h3/>\n"
      ]
    }
  ],
  "metadata": {
    "kernelspec": {
      "display_name": "Python 3 (ipykernel)",
      "language": "python",
      "name": "python3"
    },
    "language_info": {
      "name": "python",
      "version": "3.12.8",
      "mimetype": "text/x-python",
      "codemirror_mode": {
        "name": "ipython",
        "version": 3
      },
      "pygments_lexer": "ipython3",
      "nbconvert_exporter": "python",
      "file_extension": ".py"
    },
    "prev_pub_hash": "6a00a703e123bddd6178a90cb7938f215f09b4ca3e08ba1f30d34b01603dd863",
    "colab": {
      "provenance": []
    }
  },
  "nbformat": 4,
  "nbformat_minor": 0
}